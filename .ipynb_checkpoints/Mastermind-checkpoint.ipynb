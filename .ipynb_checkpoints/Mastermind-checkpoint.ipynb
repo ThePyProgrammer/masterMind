{
 "cells": [
  {
   "cell_type": "code",
   "execution_count": 1,
   "metadata": {
    "ExecuteTime": {
     "end_time": "2022-03-02T05:54:31.235837Z",
     "start_time": "2022-03-02T05:54:28.631942Z"
    }
   },
   "outputs": [],
   "source": [
    "import np\n",
    "import re\n",
    "from functools import reduce\n",
    "import pandas as pd"
   ]
  },
  {
   "cell_type": "markdown",
   "metadata": {},
   "source": [
    "# Task 1"
   ]
  },
  {
   "cell_type": "code",
   "execution_count": 37,
   "metadata": {
    "ExecuteTime": {
     "end_time": "2022-03-02T05:10:47.893974Z",
     "start_time": "2022-03-02T05:06:42.438307Z"
    }
   },
   "outputs": [
    {
     "name": "stdout",
     "output_type": "stream",
     "text": [
      "ELECTRONIC MASTERMIND 1977\n",
      "SELECT CODE TYPE: [3, 4, 5]: 3\n",
      "[6 0 9] NOTE: THIS SHOULD BE HIDDEN. IT IS SHOWN FOR DEMO PURPOSES ONLY\n",
      "Enter the code separated by space: 1 2 6\n",
      "Guess 1 : 0 1 ['.' '.' 'W']\n",
      "\n",
      "Enter the code separated by space: 6 3 0\n",
      "Guess 2 : 1 1 ['B' '.' 'W']\n",
      "\n",
      "Enter the code separated by space: 6 0 4\n",
      "Guess 3 : 2 0 ['B' 'B' '.']\n",
      "\n",
      "Enter the code separated by space: 6 0 5\n",
      "Guess 4 : 2 0 ['B' 'B' '.']\n",
      "\n"
     ]
    },
    {
     "ename": "KeyboardInterrupt",
     "evalue": "Interrupted by user",
     "output_type": "error",
     "traceback": [
      "\u001b[1;31m------------------------------------\u001b[0m",
      "\u001b[1;31mKeyboardInterrupt\u001b[0mTraceback (most recent call last)",
      "Input \u001b[1;32mIn [37]\u001b[0m, in \u001b[0;36m<module>\u001b[1;34m\u001b[0m\n\u001b[0;32m     16\u001b[0m \u001b[38;5;28;01mwhile\u001b[39;00m (output \u001b[38;5;241m!=\u001b[39m \u001b[38;5;124m\"\u001b[39m\u001b[38;5;124mB\u001b[39m\u001b[38;5;124m\"\u001b[39m)\u001b[38;5;241m.\u001b[39many():\n\u001b[0;32m     17\u001b[0m     \u001b[38;5;28;01mtry\u001b[39;00m:\n\u001b[1;32m---> 18\u001b[0m         ui \u001b[38;5;241m=\u001b[39m np\u001b[38;5;241m.\u001b[39marray(re\u001b[38;5;241m.\u001b[39msplit(\u001b[38;5;124mr\u001b[39m\u001b[38;5;124m\"\u001b[39m\u001b[38;5;124m\\\u001b[39m\u001b[38;5;124ms\u001b[39m\u001b[38;5;124m\"\u001b[39m, \u001b[38;5;28;43minput\u001b[39;49m\u001b[43m(\u001b[49m\u001b[38;5;124;43m\"\u001b[39;49m\u001b[38;5;124;43mEnter the code separated by space: \u001b[39;49m\u001b[38;5;124;43m\"\u001b[39;49m\u001b[43m)\u001b[49m))\u001b[38;5;241m.\u001b[39mastype(\u001b[38;5;28mint\u001b[39m)\n\u001b[0;32m     19\u001b[0m         \u001b[38;5;28;01mif\u001b[39;00m \u001b[38;5;28mlen\u001b[39m(ui) \u001b[38;5;241m!=\u001b[39m N: \u001b[38;5;28;01mraise\u001b[39;00m \u001b[38;5;167;01mValueError\u001b[39;00m(\u001b[38;5;124m\"\u001b[39m\u001b[38;5;124mInsufficient Values in Input\u001b[39m\u001b[38;5;124m\"\u001b[39m)\n\u001b[0;32m     20\u001b[0m     \u001b[38;5;28;01mexcept\u001b[39;00m \u001b[38;5;167;01mValueError\u001b[39;00m \u001b[38;5;28;01mas\u001b[39;00m e:\n",
      "File \u001b[1;32m~\\.conda\\envs\\analytics\\lib\\site-packages\\ipykernel\\kernelbase.py:1006\u001b[0m, in \u001b[0;36mKernel.raw_input\u001b[1;34m(self, prompt)\u001b[0m\n\u001b[0;32m   1002\u001b[0m \u001b[38;5;28;01mif\u001b[39;00m \u001b[38;5;129;01mnot\u001b[39;00m \u001b[38;5;28mself\u001b[39m\u001b[38;5;241m.\u001b[39m_allow_stdin:\n\u001b[0;32m   1003\u001b[0m     \u001b[38;5;28;01mraise\u001b[39;00m StdinNotImplementedError(\n\u001b[0;32m   1004\u001b[0m         \u001b[38;5;124m\"\u001b[39m\u001b[38;5;124mraw_input was called, but this frontend does not support input requests.\u001b[39m\u001b[38;5;124m\"\u001b[39m\n\u001b[0;32m   1005\u001b[0m     )\n\u001b[1;32m-> 1006\u001b[0m \u001b[38;5;28;01mreturn\u001b[39;00m \u001b[38;5;28;43mself\u001b[39;49m\u001b[38;5;241;43m.\u001b[39;49m\u001b[43m_input_request\u001b[49m\u001b[43m(\u001b[49m\n\u001b[0;32m   1007\u001b[0m \u001b[43m    \u001b[49m\u001b[38;5;28;43mstr\u001b[39;49m\u001b[43m(\u001b[49m\u001b[43mprompt\u001b[49m\u001b[43m)\u001b[49m\u001b[43m,\u001b[49m\n\u001b[0;32m   1008\u001b[0m \u001b[43m    \u001b[49m\u001b[38;5;28;43mself\u001b[39;49m\u001b[38;5;241;43m.\u001b[39;49m\u001b[43m_parent_ident\u001b[49m\u001b[43m[\u001b[49m\u001b[38;5;124;43m\"\u001b[39;49m\u001b[38;5;124;43mshell\u001b[39;49m\u001b[38;5;124;43m\"\u001b[39;49m\u001b[43m]\u001b[49m\u001b[43m,\u001b[49m\n\u001b[0;32m   1009\u001b[0m \u001b[43m    \u001b[49m\u001b[38;5;28;43mself\u001b[39;49m\u001b[38;5;241;43m.\u001b[39;49m\u001b[43mget_parent\u001b[49m\u001b[43m(\u001b[49m\u001b[38;5;124;43m\"\u001b[39;49m\u001b[38;5;124;43mshell\u001b[39;49m\u001b[38;5;124;43m\"\u001b[39;49m\u001b[43m)\u001b[49m\u001b[43m,\u001b[49m\n\u001b[0;32m   1010\u001b[0m \u001b[43m    \u001b[49m\u001b[43mpassword\u001b[49m\u001b[38;5;241;43m=\u001b[39;49m\u001b[38;5;28;43;01mFalse\u001b[39;49;00m\u001b[43m,\u001b[49m\n\u001b[0;32m   1011\u001b[0m \u001b[43m\u001b[49m\u001b[43m)\u001b[49m\n",
      "File \u001b[1;32m~\\.conda\\envs\\analytics\\lib\\site-packages\\ipykernel\\kernelbase.py:1051\u001b[0m, in \u001b[0;36mKernel._input_request\u001b[1;34m(self, prompt, ident, parent, password)\u001b[0m\n\u001b[0;32m   1048\u001b[0m             \u001b[38;5;28;01mbreak\u001b[39;00m\n\u001b[0;32m   1049\u001b[0m \u001b[38;5;28;01mexcept\u001b[39;00m \u001b[38;5;167;01mKeyboardInterrupt\u001b[39;00m:\n\u001b[0;32m   1050\u001b[0m     \u001b[38;5;66;03m# re-raise KeyboardInterrupt, to truncate traceback\u001b[39;00m\n\u001b[1;32m-> 1051\u001b[0m     \u001b[38;5;28;01mraise\u001b[39;00m \u001b[38;5;167;01mKeyboardInterrupt\u001b[39;00m(\u001b[38;5;124m\"\u001b[39m\u001b[38;5;124mInterrupted by user\u001b[39m\u001b[38;5;124m\"\u001b[39m) \u001b[38;5;28;01mfrom\u001b[39;00m \u001b[38;5;28mNone\u001b[39m\n\u001b[0;32m   1052\u001b[0m \u001b[38;5;28;01mexcept\u001b[39;00m \u001b[38;5;167;01mException\u001b[39;00m:\n\u001b[0;32m   1053\u001b[0m     \u001b[38;5;28mself\u001b[39m\u001b[38;5;241m.\u001b[39mlog\u001b[38;5;241m.\u001b[39mwarning(\u001b[38;5;124m\"\u001b[39m\u001b[38;5;124mInvalid Message:\u001b[39m\u001b[38;5;124m\"\u001b[39m, exc_info\u001b[38;5;241m=\u001b[39m\u001b[38;5;28;01mTrue\u001b[39;00m)\n",
      "\u001b[1;31mKeyboardInterrupt\u001b[0m: Interrupted by user"
     ]
    }
   ],
   "source": [
    "while True:\n",
    "    try:\n",
    "        code_type = input(\"ELECTRONIC MASTERMIND 1977\\nSELECT CODE TYPE: [3, 4, 5]: \").strip()\n",
    "        if code_type.lower() == \"stop\":\n",
    "            print(\"Terminated\", end=\"\\n\\n\\n\")\n",
    "            break\n",
    "        N = int(code_type)\n",
    "        if N not in [3, 4, 5]: raise ValueError()\n",
    "    except ValueError:\n",
    "        print(\"Not a valid code type.\", end=\"\\n\\n\\n\")\n",
    "    else:\n",
    "        shield = np.random.choice(10, N)\n",
    "        print(shield, \"NOTE: THIS SHOULD BE HIDDEN. IT IS SHOWN FOR DEMO PURPOSES ONLY\")\n",
    "        i = 0\n",
    "        output = np.array([\".\"]*N)\n",
    "        while (output != \"B\").any():\n",
    "            try:\n",
    "                ui = np.array(re.split(r\"\\s\", input(\"Enter the code separated by space: \"))).astype(int)\n",
    "                if len(ui) != N: raise ValueError(\"Insufficient Values in Input\")\n",
    "            except ValueError as e:\n",
    "                print(e if len(str(e)) and not str(e).startswith(\"invalid literal for int()\") else \"Unexpected Format for Sequence\\n\")\n",
    "            else:\n",
    "                output = np.array([\".\"]*N)\n",
    "                output[np.isin(ui, list(set(shield[ui != shield]) & set(ui[ui != shield])))] = \"W\"\n",
    "                output[ui==shield] = \"B\"\n",
    "                i += 1\n",
    "                print(\"Guess\", i, \":\", np.sum(output==\"B\"), np.sum(output==\"W\"), output,  end=\"\\n\\n\")\n",
    "\n",
    "        print(\"SOLVED:\", shield, end=\"\\n\\n\\n\")"
   ]
  },
  {
   "cell_type": "code",
   "execution_count": null,
   "metadata": {},
   "outputs": [],
   "source": [
    "N = int(input(\"ELECTRONIC MASTERMIND 1977\\nSELECT CODE TYPE: [3, 4, 5]: \").strip())\n",
    "shield = np.random.choice(10, N)\n",
    "output = np.array([\".\"]*N)\n",
    "\n",
    "dataset = {i:[] for i in range(10)}\n",
    "\n",
    "while (output != \"B\").any():\n",
    "    ui = np.array(re.split(r\"\\s\", input(\"Enter the code separated by space: \"))).astype(int)\n",
    "    "
   ]
  },
  {
   "cell_type": "code",
   "execution_count": 2,
   "metadata": {
    "ExecuteTime": {
     "end_time": "2022-03-02T05:54:55.642276Z",
     "start_time": "2022-03-02T05:54:55.619947Z"
    }
   },
   "outputs": [],
   "source": [
    "def mark(shield, guess):\n",
    "    output = np.full(len(shield), \".\", dtype=str)\n",
    "    output[np.isin(guess, list(set(shield[guess != shield]) & set(guess[guess != shield])))] = \"W\"\n",
    "    output[guess==shield] = \"B\"\n",
    "    return output\n",
    "\n",
    "\n",
    "def score(shield, guess):\n",
    "    return np[(guess==shield).sum(), np.isin(guess, list(set(shield[guess != shield]) & set(guess[guess != shield]))).sum()]"
   ]
  },
  {
   "cell_type": "code",
   "execution_count": 3,
   "metadata": {
    "ExecuteTime": {
     "end_time": "2022-03-02T05:54:58.832039Z",
     "start_time": "2022-03-02T05:54:58.806766Z"
    }
   },
   "outputs": [],
   "source": [
    "def crossover(code1, code2):\n",
    "    return np.where(np.random.random(size=len(code1))<0.5, code1, code2)\n",
    "\n",
    "def mutate(code):\n",
    "    code[np.random.randint(len(code)-1)] = np.random.randint(9)\n",
    "    return code\n",
    "\n",
    "def permute(code):\n",
    "    for i in range(len(code)):\n",
    "        if np.random.random() < 0.03: # very low\n",
    "            a, b = np.random.randint(len(code)-1, size=2)\n",
    "            code[a], code[b] = code[b], code[a]\n",
    "    \n",
    "    return code\n",
    "\n",
    "def inversion(code):\n",
    "    code[0], code[-1] = code[-1], code[0]\n",
    "    return code"
   ]
  },
  {
   "cell_type": "code",
   "execution_count": 15,
   "metadata": {
    "ExecuteTime": {
     "end_time": "2022-03-02T00:49:49.008345Z",
     "start_time": "2022-03-02T00:49:48.992715Z"
    }
   },
   "outputs": [
    {
     "data": {
      "text/plain": [
       "array([3, 2, 3])"
      ]
     },
     "execution_count": 15,
     "metadata": {},
     "output_type": "execute_result"
    }
   ],
   "source": [
    "crossover([1,2,3],[3,2,1])"
   ]
  },
  {
   "cell_type": "code",
   "execution_count": 17,
   "metadata": {
    "ExecuteTime": {
     "end_time": "2022-03-02T00:50:02.717336Z",
     "start_time": "2022-03-02T00:50:02.707340Z"
    }
   },
   "outputs": [
    {
     "data": {
      "text/plain": [
       "[1, 1, 3]"
      ]
     },
     "execution_count": 17,
     "metadata": {},
     "output_type": "execute_result"
    }
   ],
   "source": [
    "mutate([1,2,3])"
   ]
  },
  {
   "cell_type": "code",
   "execution_count": 23,
   "metadata": {
    "ExecuteTime": {
     "end_time": "2022-03-02T00:50:28.271329Z",
     "start_time": "2022-03-02T00:50:28.263329Z"
    }
   },
   "outputs": [
    {
     "data": {
      "text/plain": [
       "[1, 2, 3]"
      ]
     },
     "execution_count": 23,
     "metadata": {},
     "output_type": "execute_result"
    }
   ],
   "source": [
    "permute([1,2,3])"
   ]
  },
  {
   "cell_type": "code",
   "execution_count": 30,
   "metadata": {
    "ExecuteTime": {
     "end_time": "2022-03-02T03:34:03.282236Z",
     "start_time": "2022-03-02T03:34:03.265236Z"
    }
   },
   "outputs": [
    {
     "data": {
      "text/plain": [
       "array([720, 679, 630])"
      ]
     },
     "execution_count": 30,
     "metadata": {},
     "output_type": "execute_result"
    }
   ],
   "source": [
    "np.random.choice(10, size=(150, 3)).sum(axis=0)"
   ]
  },
  {
   "cell_type": "code",
   "execution_count": 4,
   "metadata": {
    "ExecuteTime": {
     "end_time": "2022-03-02T06:01:59.210012Z",
     "start_time": "2022-03-02T06:01:59.192011Z"
    }
   },
   "outputs": [],
   "source": [
    "def generatePopulation(size=(150,3)):\n",
    "    pop = np.random.choice(10, size=size)\n",
    "    df = pd.DataFrame(pop).drop_duplicates()\n",
    "    while len(df) < size[0]:\n",
    "        pop = np.random.choice(10, size=(size[0]-len(df), size[-1]))\n",
    "        df = pd.concat([df, pd.DataFrame(pop)]).drop_duplicates()\n",
    "    return df.iloc[:size[0]]"
   ]
  },
  {
   "cell_type": "code",
   "execution_count": 51,
   "metadata": {
    "ExecuteTime": {
     "end_time": "2022-03-02T05:45:55.972668Z",
     "start_time": "2022-03-02T05:45:55.952163Z"
    }
   },
   "outputs": [
    {
     "data": {
      "text/plain": [
       "array([0, 0])"
      ]
     },
     "execution_count": 51,
     "metadata": {},
     "output_type": "execute_result"
    }
   ],
   "source": [
    "code = np[6, 0, 9]\n",
    "trial = np[1,2,3]\n",
    "result = score(trial, code)\n",
    "result"
   ]
  },
  {
   "cell_type": "code",
   "execution_count": 5,
   "metadata": {
    "ExecuteTime": {
     "end_time": "2022-03-02T06:02:09.684934Z",
     "start_time": "2022-03-02T06:02:09.540166Z"
    }
   },
   "outputs": [
    {
     "name": "stdout",
     "output_type": "stream",
     "text": [
      "[1 2 3] [0 0] ['.' '.' '.']\n",
      "[]\n"
     ]
    },
    {
     "ename": "TypeError",
     "evalue": "cannot unpack non-iterable numpy.int32 object",
     "output_type": "error",
     "traceback": [
      "\u001b[1;31m------------------------------------\u001b[0m",
      "\u001b[1;31mTypeError\u001b[0mTraceback (most recent call last)",
      "Input \u001b[1;32mIn [5]\u001b[0m, in \u001b[0;36m<module>\u001b[1;34m\u001b[0m\n\u001b[0;32m     40\u001b[0m h \u001b[38;5;241m+\u001b[39m\u001b[38;5;241m=\u001b[39m \u001b[38;5;241m1\u001b[39m\n\u001b[0;32m     41\u001b[0m children \u001b[38;5;241m=\u001b[39m np\u001b[38;5;241m.\u001b[39marray(reduce(\u001b[38;5;28;01mlambda\u001b[39;00m lst,i:lst\u001b[38;5;241m+\u001b[39m[permute((\u001b[38;5;28;01mlambda\u001b[39;00m gene:mutate(gene) \u001b[38;5;28;01mif\u001b[39;00m np\u001b[38;5;241m.\u001b[39mrandom\u001b[38;5;241m.\u001b[39mrandom()\u001b[38;5;241m<\u001b[39m\u001b[38;5;241m0.03\u001b[39m \u001b[38;5;28;01melse\u001b[39;00m gene)(crossover(population[i],population[i\u001b[38;5;241m+\u001b[39m\u001b[38;5;241m1\u001b[39m])))], \u001b[38;5;28mrange\u001b[39m(\u001b[38;5;28mlen\u001b[39m(population)\u001b[38;5;241m-\u001b[39m\u001b[38;5;241m1\u001b[39m), [])\u001b[38;5;241m+\u001b[39m[population[\u001b[38;5;241m-\u001b[39m\u001b[38;5;241m1\u001b[39m]])\n\u001b[1;32m---> 42\u001b[0m pop_score \u001b[38;5;241m=\u001b[39m \u001b[38;5;28msorted\u001b[39m([(fitness(c, guesses), c) \u001b[38;5;28;01mfor\u001b[39;00m c \u001b[38;5;129;01min\u001b[39;00m children], key\u001b[38;5;241m=\u001b[39m\u001b[38;5;28;01mlambda\u001b[39;00m x:x[\u001b[38;5;241m0\u001b[39m])\n\u001b[0;32m     43\u001b[0m eligibles \u001b[38;5;241m=\u001b[39m [(score, e) \u001b[38;5;28;01mfor\u001b[39;00m (score, e) \u001b[38;5;129;01min\u001b[39;00m pop_score \u001b[38;5;28;01mif\u001b[39;00m score \u001b[38;5;241m==\u001b[39m \u001b[38;5;241m0\u001b[39m]\n\u001b[0;32m     44\u001b[0m \u001b[38;5;28mprint\u001b[39m(eligibles)\n",
      "Input \u001b[1;32mIn [5]\u001b[0m, in \u001b[0;36m<listcomp>\u001b[1;34m(.0)\u001b[0m\n\u001b[0;32m     40\u001b[0m h \u001b[38;5;241m+\u001b[39m\u001b[38;5;241m=\u001b[39m \u001b[38;5;241m1\u001b[39m\n\u001b[0;32m     41\u001b[0m children \u001b[38;5;241m=\u001b[39m np\u001b[38;5;241m.\u001b[39marray(reduce(\u001b[38;5;28;01mlambda\u001b[39;00m lst,i:lst\u001b[38;5;241m+\u001b[39m[permute((\u001b[38;5;28;01mlambda\u001b[39;00m gene:mutate(gene) \u001b[38;5;28;01mif\u001b[39;00m np\u001b[38;5;241m.\u001b[39mrandom\u001b[38;5;241m.\u001b[39mrandom()\u001b[38;5;241m<\u001b[39m\u001b[38;5;241m0.03\u001b[39m \u001b[38;5;28;01melse\u001b[39;00m gene)(crossover(population[i],population[i\u001b[38;5;241m+\u001b[39m\u001b[38;5;241m1\u001b[39m])))], \u001b[38;5;28mrange\u001b[39m(\u001b[38;5;28mlen\u001b[39m(population)\u001b[38;5;241m-\u001b[39m\u001b[38;5;241m1\u001b[39m), [])\u001b[38;5;241m+\u001b[39m[population[\u001b[38;5;241m-\u001b[39m\u001b[38;5;241m1\u001b[39m]])\n\u001b[1;32m---> 42\u001b[0m pop_score \u001b[38;5;241m=\u001b[39m \u001b[38;5;28msorted\u001b[39m([(\u001b[43mfitness\u001b[49m\u001b[43m(\u001b[49m\u001b[43mc\u001b[49m\u001b[43m,\u001b[49m\u001b[43m \u001b[49m\u001b[43mguesses\u001b[49m\u001b[43m)\u001b[49m, c) \u001b[38;5;28;01mfor\u001b[39;00m c \u001b[38;5;129;01min\u001b[39;00m children], key\u001b[38;5;241m=\u001b[39m\u001b[38;5;28;01mlambda\u001b[39;00m x:x[\u001b[38;5;241m0\u001b[39m])\n\u001b[0;32m     43\u001b[0m eligibles \u001b[38;5;241m=\u001b[39m [(score, e) \u001b[38;5;28;01mfor\u001b[39;00m (score, e) \u001b[38;5;129;01min\u001b[39;00m pop_score \u001b[38;5;28;01mif\u001b[39;00m score \u001b[38;5;241m==\u001b[39m \u001b[38;5;241m0\u001b[39m]\n\u001b[0;32m     44\u001b[0m \u001b[38;5;28mprint\u001b[39m(eligibles)\n",
      "Input \u001b[1;32mIn [5]\u001b[0m, in \u001b[0;36mfitness\u001b[1;34m(trial, guesses)\u001b[0m\n\u001b[0;32m      5\u001b[0m \u001b[38;5;28;01mdef\u001b[39;00m \u001b[38;5;21mfitness\u001b[39m(trial, guesses):\n\u001b[0;32m      6\u001b[0m     \u001b[38;5;28mprint\u001b[39m(guesses)\n\u001b[1;32m----> 7\u001b[0m     X, Y \u001b[38;5;241m=\u001b[39m np\u001b[38;5;241m.\u001b[39marray([difference(trial, guess[\u001b[38;5;241m0\u001b[39m], guess[\u001b[38;5;241m1\u001b[39m]) \u001b[38;5;28;01mfor\u001b[39;00m guess \u001b[38;5;129;01min\u001b[39;00m guesses] \u001b[38;5;28;01mif\u001b[39;00m \u001b[38;5;28mlen\u001b[39m(guesses) \u001b[38;5;28;01melse\u001b[39;00m [\u001b[38;5;241m0\u001b[39m,\u001b[38;5;241m0\u001b[39m])\u001b[38;5;241m.\u001b[39msum(axis\u001b[38;5;241m=\u001b[39m\u001b[38;5;241m0\u001b[39m)\n\u001b[0;32m      8\u001b[0m     \u001b[38;5;28;01mreturn\u001b[39;00m X \u001b[38;5;241m+\u001b[39m Y \u001b[38;5;241m-\u001b[39m \u001b[38;5;28mlen\u001b[39m(trial)\n",
      "\u001b[1;31mTypeError\u001b[0m: cannot unpack non-iterable numpy.int32 object"
     ]
    }
   ],
   "source": [
    "def fitness(trial, guesses):\n",
    "    print(guesses)\n",
    "    X, Y = np.array([np.abs(score(trial, np.array(guess))-guess_result) for (guess, guess_result) in guesses]).sum(axis=0)\n",
    "    return X + Y - len(trial)\n",
    "\n",
    "def stringify(lst):\n",
    "    return \"\".join(map(str, lst))\n",
    "\n",
    "def destringify(lst):\n",
    "    return list(map(int, list(lst)))\n",
    "\n",
    "code = np[6, 0, 9]\n",
    "trial = np[1,2,3]\n",
    "result = score(trial, code)\n",
    "turn = 0\n",
    "\n",
    "print(trial, result, mark(trial, code))\n",
    "\n",
    "guesses = []\n",
    "# guesses = [\n",
    "#     ([1,2,6],[0,1]),\n",
    "#     ([6,3,0],[1,1]),\n",
    "#     ([6,0,4],[2,0]),\n",
    "#     ([6,0,5],[2,0])\n",
    "    \n",
    "# ]\n",
    "\n",
    "while (result != [3,0]).any():\n",
    "    population = generatePopulation().values\n",
    "\n",
    "    Ei = []\n",
    "    h, k = 1, 0\n",
    "\n",
    "    while len(Ei) <= len(population) and h <= 100:\n",
    "        #print(population)\n",
    "        h += 1\n",
    "        children = np.array(reduce(lambda lst,i:lst+[permute((lambda gene:mutate(gene) if np.random.random()<0.03 else gene)(crossover(population[i],population[i+1])))], range(len(population)-1), [])+[population[-1]])\n",
    "        pop_score = sorted([(fitness(c, guesses), c) for c in children], key=lambda x:x[0])\n",
    "        eligibles = [(score, e) for (score, e) in pop_score if score == 0]\n",
    "        print(eligibles)\n",
    "        if not len(eligibles): continue\n",
    "        stringligibles = set([stringify(i[-1]) for i in eligibles])\n",
    "        Ei_new = set(map(stringify, Ei))\n",
    "        Ei_new = list(Ei_new - stringligibles)\n",
    "        Ei_new.extend(list(map(stringify, np.random.choice(10,size=(len(Ei)-len(Ei_new), 3)).tolist())))\n",
    "        Ei_new = list(set(Ei_new) | stringligibles)[:len(population)]\n",
    "        Ei = list(map(destringify, Ei_new))\n",
    "        population = np.vstack((np.array([i[-1] for i in eligibles]),np.random.choice(10,size=(len(Ei)-len(Ei_new), 3))))\n",
    "\n",
    "    print(\"Ei\", end=\"\")\n",
    "    if len(Ei) == 0:\n",
    "        print(\" is 0\")\n",
    "        continue\n",
    "    print(\" \", Ei)\n",
    "    test = Ei.pop()\n",
    "    while code in [c for (c, r) in guesses]:\n",
    "        test = Ei.pop()\n",
    "    \n",
    "    turn += 1\n",
    "    \n",
    "    result = score(test, code)\n",
    "    print(code, result, mark(test, code))\n",
    "    guesses.append((code, result))\n",
    "    \n",
    "    "
   ]
  },
  {
   "cell_type": "code",
   "execution_count": 36,
   "metadata": {
    "ExecuteTime": {
     "end_time": "2022-03-03T12:37:02.561520Z",
     "start_time": "2022-03-03T12:37:02.539529Z"
    }
   },
   "outputs": [
    {
     "name": "stdout",
     "output_type": "stream",
     "text": [
      "code [ 7  1 10]\n",
      "guess [6 1 1]\n",
      "code != guess [ True False  True]\n",
      "(code != guess)*2 - 1 [ 1 -1  1]\n",
      "negatize [ 7 -1 10]\n",
      "guess[guess != code] [6 1]\n",
      "----------------------------\n",
      "6\n",
      "[ 7 -1 10]\n",
      "[]\n",
      ".\n",
      "------------------\n",
      "1\n",
      "[ 7 -1 10]\n",
      "['.']\n",
      ".\n",
      "------------------\n"
     ]
    },
    {
     "data": {
      "text/plain": [
       "array(['.', 'B', '.'], dtype='<U1')"
      ]
     },
     "execution_count": 36,
     "metadata": {},
     "output_type": "execute_result"
    }
   ],
   "source": [
    "code = np[6, 0, 9]\n",
    "ui = np[5, 0, 0]\n",
    "\n",
    "def mark(guess, code):\n",
    "    code += 1\n",
    "    guess += 1\n",
    "    output = np.full_like(code, \".\", dtype=str)\n",
    "    output[guess == code] = \"B\"\n",
    "    negatize = code * ((code != guess)*2 - 1)\n",
    "    considerations = []\n",
    "    print(\"----------------------------\")\n",
    "\n",
    "    for allele in guess[guess != code]:\n",
    "        result = \".\"\n",
    "        print(allele)\n",
    "        print(negatize)\n",
    "        print(considerations)\n",
    "        if allele in negatize:\n",
    "            result = \"W\"\n",
    "            negatize[np.argmax(negatize == allele)] = -allele\n",
    "        print(result)\n",
    "        print(\"------------------\")\n",
    "        considerations.append(result)\n",
    "\n",
    "    output[guess != code] = considerations\n",
    "\n",
    "    return output\n",
    "\n",
    "marked = np[\"W\", \"B\", \".\"]\n",
    "mark(ui, code)"
   ]
  },
  {
   "cell_type": "code",
   "execution_count": 41,
   "metadata": {
    "ExecuteTime": {
     "end_time": "2022-03-03T13:18:45.991086Z",
     "start_time": "2022-03-03T13:18:19.506206Z"
    }
   },
   "outputs": [
    {
     "name": "stdout",
     "output_type": "stream",
     "text": [
      "Code Played: Chromosome(1, 2, 3)\n",
      "[1 1] ['B' 'W' '.']\n",
      "Code Played: Chromosome(6, 1, 2)\n",
      "[1 1] ['.' 'W' 'B']\n",
      "Code Played: Chromosome(1, 8, 2)\n",
      "[2 0] ['B' '.' 'B']\n",
      "Code Played: Chromosome(1, 0, 2)\n",
      "[2 0] ['B' '.' 'B']\n",
      "Code Played: Chromosome(1, 2, 7)\n",
      "[1 2] ['B' 'W' 'W']\n",
      "Code Played: Chromosome(1, 2, 6)\n",
      "[1 1] ['B' 'W' '.']\n",
      "Code Played: Chromosome(2, 1, 3)\n",
      "[0 2] ['W' 'W' '.']\n",
      "Code Played: Chromosome(1, 7, 2)\n",
      "[3 0] ['B' 'B' 'B']\n",
      "YOU WIN!\n"
     ]
    }
   ],
   "source": [
    "import np\n",
    "import re\n",
    "import pandas as pd\n",
    "from functools import reduce\n",
    "from itertools import tee, zip_longest\n",
    "\n",
    "\n",
    "def p(*size): return np.random.random(size=size if len(size) else 1)\n",
    "\n",
    "def rand(*size): return np.random.randint(10, size=size if len(size) else 1)\n",
    "\n",
    "def shuffle(arr):\n",
    "    cp = arr.copy()\n",
    "    np.random.shuffle(cp)\n",
    "    return cp\n",
    "\n",
    "class Chromosome:\n",
    "    def __init__(self, *args):\n",
    "        if len(args) == 1: args = args[0]\n",
    "        self.values = np.array(list(map(int, args))).flatten()\n",
    "        self.slots = len(self.values)\n",
    "        \n",
    "    def copy(self):\n",
    "        return Chromosome(*self.values.tolist())\n",
    "    \n",
    "    def __str__(self):\n",
    "        return f\"Chromosome(\"+\", \".join(map(str, self.values))+\")\"\n",
    "    \n",
    "    def __len__(self):\n",
    "        return self.slots\n",
    "    \n",
    "    def __getitem__(self, i):\n",
    "        return self.values[i]\n",
    "    \n",
    "    def __setitem__(self, i, obj):\n",
    "        self.values[i] = obj\n",
    "        \n",
    "    def randSlots(self, size=1):\n",
    "        return np.random.randint(self.slots-1, size=size)\n",
    "        \n",
    "    def tolist(self):\n",
    "        return self.values.tolist()\n",
    "\n",
    "    def stringify(self):\n",
    "        return \"\".join(map(str, self.tolist()))\n",
    "    \n",
    "    @classmethod\n",
    "    def destringify(cls, string):\n",
    "        return cls(*map(int, string))\n",
    "    \n",
    "    def crossover(self, other):\n",
    "        return Chromosome(np.where(p(self.slots)<0.5, self.values, other.values))\n",
    "    \n",
    "    def mutate(self):\n",
    "        code = self.copy()\n",
    "        if p() < 0.03:\n",
    "            code[code.randSlots()] = rand()\n",
    "        return code\n",
    "    \n",
    "    def invert(self):\n",
    "        code = self.copy()\n",
    "        if p() < 0.03:\n",
    "            a, b = sorted(tuple(code.randSlots(2)))\n",
    "            code[a:b] = code[a:b][::-1]\n",
    "        return code\n",
    "    \n",
    "    def scramble(self):\n",
    "        code = self.copy()\n",
    "        if p() < 0.03:\n",
    "            a, b = sorted(tuple(code.randSlots(2)))\n",
    "            code[a:b] = shuffle(code[a:b])\n",
    "        return code\n",
    "    \n",
    "    def swap(self,a,b):\n",
    "        self[a], self[b] = self[b], self[a]\n",
    "\n",
    "    def permute(self):\n",
    "        code = self.copy()\n",
    "        for i in range(code.slots):\n",
    "            if p() < 0.03: # very low\n",
    "                code.swap(*code.randSlots(2))\n",
    "        return code\n",
    "    \n",
    "    def __hash__(self):\n",
    "        return int(self.stringify())\n",
    "    \n",
    "    def __eq__(self, other):\n",
    "        return (self.values == other.values).sum()\n",
    "    \n",
    "    def __ne__(self, other):\n",
    "        return self.values != other.values\n",
    "    \n",
    "    def within(self, other):\n",
    "        return np.isin(self.values, other) \n",
    "    \n",
    "    def whites(self, guess):\n",
    "        return guess.within(list(set(self[guess != self]) & set(guess[guess != self]))).astype(int)\n",
    "       \n",
    "    def blacks(self, guess):\n",
    "        return (self.values == guess.values)\n",
    "    \n",
    "    def score(self, guess):\n",
    "        return np[self == guess, guess.whites(self).sum()]\n",
    "    \n",
    "    def mark(self, guess):\n",
    "        output = np.full_like(self.values, \".\", dtype=str)\n",
    "        output[guess.whites(self)] = \"W\"\n",
    "        output[guess.blacks(self)] = \"B\"\n",
    "        return output\n",
    "    \n",
    "    def markWith(self, optimal):\n",
    "        guess = self.values.copy()+1\n",
    "        code = optimal.values.copy()+1\n",
    "        output = np.full_like(code, \".\", dtype=str)\n",
    "        output[guess == code] = \"B\"\n",
    "        negatize = code * ((code != guess)*2 - 1)\n",
    "        considerations = []\n",
    "\n",
    "        for allele in guess[guess != code]:\n",
    "            result = \".\"\n",
    "            if allele in negatize:\n",
    "                result = \"W\"\n",
    "                negatize[np.argmax(negatize == allele)] = -allele\n",
    "            considerations.append(result)\n",
    "\n",
    "        output[guess != code] = considerations\n",
    "\n",
    "        return output\n",
    "    \n",
    "    def scoreWith(self, optimal):\n",
    "        output = self.markWith(optimal)\n",
    "        return np[(output == \"B\").sum(), (output == \"W\").sum()]\n",
    "    \n",
    "    def fitness(self, guesses):\n",
    "        return np.array([self.scoreWith(guess)-guess_result for (guess, guess_result) in guesses]).sum() #- self.slots\n",
    "\n",
    "    \n",
    "class ChromoSet(list):\n",
    "    \"\"\"\n",
    "    Can be used for guesses, genotype, eligibles etc\n",
    "    \"\"\"\n",
    "    def __init__(self, values=[]):\n",
    "        self.values = [Chromosome(candidate) for candidate in np.array(values).tolist()]\n",
    "        super().__init__(self.values)\n",
    "        \n",
    "    def __gt__(self, other):\n",
    "        return len(self) > len(other)\n",
    "    \n",
    "    def __ge__(self, other):\n",
    "        return len(self) >= len(other)\n",
    "    \n",
    "    def __lt__(self, other):\n",
    "        return len(self) < len(other)\n",
    "    \n",
    "    def __le__(self, other):\n",
    "        return len(self) <= len(other)\n",
    "    \n",
    "    def filter(self, f):\n",
    "        return Elite([chromosome for chromosome in self if f(chromosome)])\n",
    "    \n",
    "    def tolist(self):\n",
    "        return list(map(Chromosome.tolist, self))\n",
    "        \n",
    "\n",
    "class Elite(ChromoSet):\n",
    "    def __add__(self, other):\n",
    "        return Elite(list(set(self) | set(other)))\n",
    "    def __sub__(self, other):\n",
    "        return Elite(list(set(self) - set(other)))\n",
    "    def __str__(self):\n",
    "        return \"[\"+\", \".join(map(str, self))+\"]\"\n",
    "    def __repr__(self):\n",
    "        return \"[\"+\", \".join(map(str, self))+\"]\"\n",
    "        \n",
    "        \n",
    "class Genotype(ChromoSet):\n",
    "    def __init__(self, size, slots, initial=[]):\n",
    "        self.size = size\n",
    "        self.slots = slots\n",
    "        df = pd.DataFrame(initial)\n",
    "        while len(df) < size:\n",
    "            pop = rand(size-len(df), slots)\n",
    "            df = pd.concat([df, pd.DataFrame(pop)], ignore_index=True).drop_duplicates()\n",
    "        \n",
    "        super().__init__(df.iloc[:size].values)\n",
    "        \n",
    "    def reproduce(self):\n",
    "        a, b = tee(self)\n",
    "        next(b, None)\n",
    "        return Genotype(len(self), len(self[0]), initial=list(map(lambda chromosomes: chromosomes[0].crossover(chromosomes[1]).mutate().invert().scramble().permute().tolist(), zip_longest(a, b, fillvalue=self[-1]))))\n",
    "            \n",
    "def train(guesses):\n",
    "    pop = Genotype(150, 3)\n",
    "    Ei = Elite()\n",
    "    cnt = 0\n",
    "    while cnt <= 100 and Ei <= pop:\n",
    "        children = pop.reproduce().filter(lambda child: not child.fitness(guesses))\n",
    "        if len(children):\n",
    "            Ei = Ei + children\n",
    "            pop = Genotype(150, 3, initial=list(map(Chromosome.tolist, Ei)))\n",
    "        cnt += 1\n",
    "    \n",
    "    return Ei\n",
    "\n",
    "\n",
    "code = Chromosome(rand(3))\n",
    "\n",
    "init = Chromosome(1,2,3)\n",
    "\n",
    "print(\"Code Played:\", init)\n",
    "print(init.scoreWith(code), init.markWith(code))\n",
    "guesses = [(init, init.scoreWith(code))]\n",
    "\n",
    "cnt = 1\n",
    "\n",
    "while cnt <= 100 and guesses[-1][-1][0] != 3:\n",
    "    Ei = train(guesses)\n",
    "    if len(Ei) == 0: continue\n",
    "    possibles = Ei - Elite([i[0].tolist() for i in guesses])\n",
    "    #print(\"Elites:\",possibles)\n",
    "    submission = possibles[np.random.randint(len(possibles))]\n",
    "    print(\"Code Played:\", submission)\n",
    "    print(submission.scoreWith(code), submission.markWith(code))\n",
    "    guesses.append((submission, submission.scoreWith(code)))\n",
    "    cnt += 1\n",
    "    \n",
    "print(\"YOU WIN!\")"
   ]
  },
  {
   "cell_type": "code",
   "execution_count": 40,
   "metadata": {
    "ExecuteTime": {
     "end_time": "2022-03-03T13:16:24.229673Z",
     "start_time": "2022-03-03T13:16:24.220633Z"
    }
   },
   "outputs": [
    {
     "name": "stdout",
     "output_type": "stream",
     "text": [
      "Chromosome(3, 7, 6)\n"
     ]
    }
   ],
   "source": [
    "print(Chromosome(rand(3)))"
   ]
  },
  {
   "cell_type": "code",
   "execution_count": null,
   "metadata": {
    "ExecuteTime": {
     "start_time": "2022-03-03T13:44:40.738Z"
    },
    "scrolled": false
   },
   "outputs": [
    {
     "name": "stdout",
     "output_type": "stream",
     "text": [
      "ELECTRONIC MASTERMIND 1977\n",
      "SELECT CODE TYPE: [3, 4, 5]: 5\n",
      "Guess 0: 1 6 0 1 3\n",
      "[1 1] ['W' 'B' '.' '.' '.']\n",
      "Guess 1: 6 8 8 1 6\n",
      "[1 2] ['B' '.' '.' 'W' 'W']\n",
      "Guess 2: 1 3 8 4 8\n",
      "[0 1] ['W' '.' '.' '.' '.']\n",
      "Guess 3: 6 6 6 2 1\n",
      "[3 0] ['B' 'B' '.' '.' 'B']\n",
      "Guess 4: 6 6 7 9 1\n",
      "[3 1] ['B' 'B' 'W' '.' 'B']\n"
     ]
    }
   ],
   "source": [
    "import np\n",
    "import re\n",
    "import pandas as pd\n",
    "from functools import reduce\n",
    "from itertools import tee, zip_longest\n",
    "\n",
    "\n",
    "def p(*size): return np.random.random(size=size if len(size) else 1)\n",
    "\n",
    "def rand(*size): return np.random.randint(10, size=size if len(size) else 1)\n",
    "\n",
    "def shuffle(arr):\n",
    "    cp = arr.copy()\n",
    "    np.random.shuffle(cp)\n",
    "    return cp\n",
    "\n",
    "class Chromosome:\n",
    "    def __init__(self, *args):\n",
    "        if len(args) == 1: args = args[0]\n",
    "        self.values = np.array(list(map(int, args))).flatten()\n",
    "        self.slots = len(self.values)\n",
    "        \n",
    "    def copy(self):\n",
    "        return Chromosome(*self.values.tolist())\n",
    "    \n",
    "    def __str__(self):\n",
    "        return f\"Chromosome(\"+\", \".join(map(str, self.values))+\")\"\n",
    "    \n",
    "    def __len__(self):\n",
    "        return self.slots\n",
    "    \n",
    "    def __getitem__(self, i):\n",
    "        return self.values[i]\n",
    "    \n",
    "    def __setitem__(self, i, obj):\n",
    "        self.values[i] = obj\n",
    "        \n",
    "    def randSlots(self, size=1):\n",
    "        return np.random.randint(self.slots-1, size=size)\n",
    "        \n",
    "    def tolist(self):\n",
    "        return self.values.tolist()\n",
    "\n",
    "    def stringify(self):\n",
    "        return \"\".join(map(str, self.tolist()))\n",
    "    \n",
    "    @classmethod\n",
    "    def destringify(cls, string):\n",
    "        return cls(*map(int, string))\n",
    "    \n",
    "    def crossover(self, other):\n",
    "        return Chromosome(np.where(p(self.slots)<0.5, self.values, other.values))\n",
    "    \n",
    "    def mutate(self):\n",
    "        code = self.copy()\n",
    "        if p() < 0.03:\n",
    "            code[code.randSlots()] = rand()\n",
    "        return code\n",
    "    \n",
    "    def invert(self):\n",
    "        code = self.copy()\n",
    "        if p() < 0.03:\n",
    "            a, b = sorted(tuple(code.randSlots(2)))\n",
    "            code[a:b] = code[a:b][::-1]\n",
    "        return code\n",
    "    \n",
    "    def scramble(self):\n",
    "        code = self.copy()\n",
    "        if p() < 0.03:\n",
    "            a, b = sorted(tuple(code.randSlots(2)))\n",
    "            code[a:b] = shuffle(code[a:b])\n",
    "        return code\n",
    "    \n",
    "    def swap(self,a,b):\n",
    "        self[a], self[b] = self[b], self[a]\n",
    "\n",
    "    def permute(self):\n",
    "        code = self.copy()\n",
    "        for i in range(code.slots):\n",
    "            if p() < 0.03: # very low\n",
    "                code.swap(*code.randSlots(2))\n",
    "        return code\n",
    "    \n",
    "    def __hash__(self):\n",
    "        return int(self.stringify())\n",
    "    \n",
    "    def __eq__(self, other):\n",
    "        return (self.values == other.values).sum()\n",
    "    \n",
    "    def __ne__(self, other):\n",
    "        return self.values != other.values\n",
    "    \n",
    "    def within(self, other):\n",
    "        return np.isin(self.values, other) \n",
    "    \n",
    "    def whites(self, guess):\n",
    "        return guess.within(list(set(self[guess != self]) & set(guess[guess != self]))).astype(int)\n",
    "       \n",
    "    def blacks(self, guess):\n",
    "        return (self.values == guess.values)\n",
    "    \n",
    "    def score(self, guess):\n",
    "        return np[self == guess, guess.whites(self).sum()]\n",
    "    \n",
    "    def mark(self, guess):\n",
    "        output = np.full_like(self.values, \".\", dtype=str)\n",
    "        output[guess.whites(self)] = \"W\"\n",
    "        output[guess.blacks(self)] = \"B\"\n",
    "        return output\n",
    "    \n",
    "    def markWith(self, optimal):\n",
    "        guess = self.values.copy()+1\n",
    "        code = optimal.values.copy()+1\n",
    "        output = np.full_like(code, \".\", dtype=str)\n",
    "        output[guess == code] = \"B\"\n",
    "        negatize = code * ((code != guess)*2 - 1)\n",
    "        considerations = []\n",
    "\n",
    "        for allele in guess[guess != code]:\n",
    "            result = \".\"\n",
    "            if allele in negatize:\n",
    "                result = \"W\"\n",
    "                negatize[np.argmax(negatize == allele)] = -allele\n",
    "            considerations.append(result)\n",
    "\n",
    "        output[guess != code] = considerations\n",
    "\n",
    "        return output\n",
    "    \n",
    "    def scoreWith(self, optimal):\n",
    "        output = self.markWith(optimal)\n",
    "        return np[(output == \"B\").sum(), (output == \"W\").sum()]\n",
    "    \n",
    "    def fitness(self, guesses):\n",
    "        return np.abs(np.array([self.scoreWith(guess)-guess_result for (guess, guess_result) in guesses])).sum() #- self.slots\n",
    "\n",
    "    \n",
    "class ChromoSet(list):\n",
    "    \"\"\"\n",
    "    Can be used for guesses, genotype, eligibles etc\n",
    "    \"\"\"\n",
    "    def __init__(self, values=[]):\n",
    "        self.values = [Chromosome(candidate) for candidate in np.array(values).tolist()]\n",
    "        super().__init__(self.values)\n",
    "        \n",
    "    def __gt__(self, other):\n",
    "        return len(self) > len(other)\n",
    "    \n",
    "    def __ge__(self, other):\n",
    "        return len(self) >= len(other)\n",
    "    \n",
    "    def __lt__(self, other):\n",
    "        return len(self) < len(other)\n",
    "    \n",
    "    def __le__(self, other):\n",
    "        return len(self) <= len(other)\n",
    "    \n",
    "    def filter(self, f):\n",
    "        return Elite([chromosome for chromosome in self if f(chromosome)])\n",
    "    \n",
    "    def tolist(self):\n",
    "        return list(map(Chromosome.tolist, self))\n",
    "        \n",
    "\n",
    "class Elite(ChromoSet):\n",
    "    def __add__(self, other):\n",
    "        return Elite(list(set(self) | set(other)))\n",
    "    def __sub__(self, other):\n",
    "        return Elite(list(set(self) - set(other)))\n",
    "    def __str__(self):\n",
    "        return \"[\"+\", \".join(map(str, self))+\"]\"\n",
    "    def __repr__(self):\n",
    "        return \"[\"+\", \".join(map(str, self))+\"]\"\n",
    "        \n",
    "        \n",
    "class Genotype(ChromoSet):\n",
    "    def __init__(self, size, slots, initial=[]):\n",
    "        self.size = size\n",
    "        self.slots = slots\n",
    "        df = pd.DataFrame(initial)\n",
    "        while len(df) < size:\n",
    "            pop = rand(size-len(df), slots)\n",
    "            df = pd.concat([df, pd.DataFrame(pop)], ignore_index=True).drop_duplicates()\n",
    "        \n",
    "        super().__init__(df.iloc[:size].values)\n",
    "        \n",
    "    def reproduce(self):\n",
    "        a, b = tee(self)\n",
    "        next(b, None)\n",
    "        return Genotype(len(self), len(self[0]), initial=list(map(lambda chromosomes: chromosomes[0].crossover(chromosomes[1]).mutate().invert().scramble().permute().tolist(), zip_longest(a, b, fillvalue=self[-1]))))\n",
    "\n",
    "\n",
    "code_type = input(\"ELECTRONIC MASTERMIND 1977\\nSELECT CODE TYPE: [3, 4, 5]: \").strip()\n",
    "N = int(code_type)\n",
    "\n",
    "def train(guesses):\n",
    "    pop = Genotype(150, N)\n",
    "    Ei = Elite()\n",
    "    cnt = 0\n",
    "    while cnt <= 100 and Ei <= pop:\n",
    "        children = pop.reproduce().filter(lambda child: not child.fitness(guesses))\n",
    "        if len(children):\n",
    "            Ei = Ei + children\n",
    "            pop = Genotype(150, N, initial=list(map(Chromosome.tolist, Ei)))\n",
    "        cnt += 1\n",
    "    \n",
    "    return Ei\n",
    "\n",
    "code = Chromosome(rand(N))\n",
    "init = Chromosome(rand(N))\n",
    "\n",
    "print(\"Guess 0:\", *init)\n",
    "print(init.scoreWith(code), init.markWith(code))\n",
    "guesses = [(init, init.scoreWith(code))]\n",
    "\n",
    "cnt = 1\n",
    "\n",
    "while cnt <= 100 and guesses[-1][-1][0] != N:\n",
    "    Ei = train(guesses)\n",
    "    if len(Ei) == 0: continue\n",
    "    possibles = Ei - Elite([i[0].tolist() for i in guesses])\n",
    "    #print(\"Elites:\",possibles)\n",
    "    submission = possibles[np.random.randint(len(possibles))]\n",
    "    print(f\"Guess {cnt}:\", *submission)\n",
    "    print(submission.scoreWith(code), submission.markWith(code))\n",
    "    guesses.append((submission, submission.scoreWith(code)))\n",
    "    cnt += 1\n",
    "    \n",
    "print(\"YOU WIN!\")"
   ]
  },
  {
   "cell_type": "code",
   "execution_count": null,
   "metadata": {
    "ExecuteTime": {
     "end_time": "2022-03-03T13:43:17.190293Z",
     "start_time": "2022-03-03T13:37:43.498Z"
    }
   },
   "outputs": [],
   "source": [
    "sorted(guesses, key=lambda arr: -arr[1][0])"
   ]
  }
 ],
 "metadata": {
  "kernelspec": {
   "display_name": "Python 3",
   "language": "python",
   "name": "python3"
  },
  "language_info": {
   "codemirror_mode": {
    "name": "ipython",
    "version": 3
   },
   "file_extension": ".py",
   "mimetype": "text/x-python",
   "name": "python",
   "nbconvert_exporter": "python",
   "pygments_lexer": "ipython3",
   "version": "3.7.2"
  },
  "toc": {
   "base_numbering": 1,
   "nav_menu": {},
   "number_sections": true,
   "sideBar": true,
   "skip_h1_title": false,
   "title_cell": "Table of Contents",
   "title_sidebar": "Contents",
   "toc_cell": false,
   "toc_position": {},
   "toc_section_display": true,
   "toc_window_display": false
  },
  "varInspector": {
   "cols": {
    "lenName": 16,
    "lenType": 16,
    "lenVar": 40
   },
   "kernels_config": {
    "python": {
     "delete_cmd_postfix": "",
     "delete_cmd_prefix": "del ",
     "library": "var_list.py",
     "varRefreshCmd": "print(var_dic_list())"
    },
    "r": {
     "delete_cmd_postfix": ") ",
     "delete_cmd_prefix": "rm(",
     "library": "var_list.r",
     "varRefreshCmd": "cat(var_dic_list()) "
    }
   },
   "types_to_exclude": [
    "module",
    "function",
    "builtin_function_or_method",
    "instance",
    "_Feature"
   ],
   "window_display": false
  }
 },
 "nbformat": 4,
 "nbformat_minor": 5
}
