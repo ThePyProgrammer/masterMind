{
 "cells": [
  {
   "cell_type": "code",
   "execution_count": null,
   "id": "2f58fa5f",
   "metadata": {
    "ExecuteTime": {
     "start_time": "2022-03-02T05:54:26.944Z"
    }
   },
   "outputs": [],
   "source": [
    "import np\n",
    "import re\n",
    "from functools import reduce\n",
    "import pandas as pd"
   ]
  },
  {
   "cell_type": "markdown",
   "id": "d08fed44",
   "metadata": {},
   "source": [
    "# Task 1"
   ]
  },
  {
   "cell_type": "code",
   "execution_count": 37,
   "id": "db2d4c17",
   "metadata": {
    "ExecuteTime": {
     "end_time": "2022-03-02T05:10:47.893974Z",
     "start_time": "2022-03-02T05:06:42.438307Z"
    }
   },
   "outputs": [
    {
     "name": "stdout",
     "output_type": "stream",
     "text": [
      "ELECTRONIC MASTERMIND 1977\n",
      "SELECT CODE TYPE: [3, 4, 5]: 3\n",
      "[6 0 9] NOTE: THIS SHOULD BE HIDDEN. IT IS SHOWN FOR DEMO PURPOSES ONLY\n",
      "Enter the code separated by space: 1 2 6\n",
      "Guess 1 : 0 1 ['.' '.' 'W']\n",
      "\n",
      "Enter the code separated by space: 6 3 0\n",
      "Guess 2 : 1 1 ['B' '.' 'W']\n",
      "\n",
      "Enter the code separated by space: 6 0 4\n",
      "Guess 3 : 2 0 ['B' 'B' '.']\n",
      "\n",
      "Enter the code separated by space: 6 0 5\n",
      "Guess 4 : 2 0 ['B' 'B' '.']\n",
      "\n"
     ]
    },
    {
     "ename": "KeyboardInterrupt",
     "evalue": "Interrupted by user",
     "output_type": "error",
     "traceback": [
      "\u001b[1;31m------------------------------------\u001b[0m",
      "\u001b[1;31mKeyboardInterrupt\u001b[0mTraceback (most recent call last)",
      "Input \u001b[1;32mIn [37]\u001b[0m, in \u001b[0;36m<module>\u001b[1;34m\u001b[0m\n\u001b[0;32m     16\u001b[0m \u001b[38;5;28;01mwhile\u001b[39;00m (output \u001b[38;5;241m!=\u001b[39m \u001b[38;5;124m\"\u001b[39m\u001b[38;5;124mB\u001b[39m\u001b[38;5;124m\"\u001b[39m)\u001b[38;5;241m.\u001b[39many():\n\u001b[0;32m     17\u001b[0m     \u001b[38;5;28;01mtry\u001b[39;00m:\n\u001b[1;32m---> 18\u001b[0m         ui \u001b[38;5;241m=\u001b[39m np\u001b[38;5;241m.\u001b[39marray(re\u001b[38;5;241m.\u001b[39msplit(\u001b[38;5;124mr\u001b[39m\u001b[38;5;124m\"\u001b[39m\u001b[38;5;124m\\\u001b[39m\u001b[38;5;124ms\u001b[39m\u001b[38;5;124m\"\u001b[39m, \u001b[38;5;28;43minput\u001b[39;49m\u001b[43m(\u001b[49m\u001b[38;5;124;43m\"\u001b[39;49m\u001b[38;5;124;43mEnter the code separated by space: \u001b[39;49m\u001b[38;5;124;43m\"\u001b[39;49m\u001b[43m)\u001b[49m))\u001b[38;5;241m.\u001b[39mastype(\u001b[38;5;28mint\u001b[39m)\n\u001b[0;32m     19\u001b[0m         \u001b[38;5;28;01mif\u001b[39;00m \u001b[38;5;28mlen\u001b[39m(ui) \u001b[38;5;241m!=\u001b[39m N: \u001b[38;5;28;01mraise\u001b[39;00m \u001b[38;5;167;01mValueError\u001b[39;00m(\u001b[38;5;124m\"\u001b[39m\u001b[38;5;124mInsufficient Values in Input\u001b[39m\u001b[38;5;124m\"\u001b[39m)\n\u001b[0;32m     20\u001b[0m     \u001b[38;5;28;01mexcept\u001b[39;00m \u001b[38;5;167;01mValueError\u001b[39;00m \u001b[38;5;28;01mas\u001b[39;00m e:\n",
      "File \u001b[1;32m~\\.conda\\envs\\analytics\\lib\\site-packages\\ipykernel\\kernelbase.py:1006\u001b[0m, in \u001b[0;36mKernel.raw_input\u001b[1;34m(self, prompt)\u001b[0m\n\u001b[0;32m   1002\u001b[0m \u001b[38;5;28;01mif\u001b[39;00m \u001b[38;5;129;01mnot\u001b[39;00m \u001b[38;5;28mself\u001b[39m\u001b[38;5;241m.\u001b[39m_allow_stdin:\n\u001b[0;32m   1003\u001b[0m     \u001b[38;5;28;01mraise\u001b[39;00m StdinNotImplementedError(\n\u001b[0;32m   1004\u001b[0m         \u001b[38;5;124m\"\u001b[39m\u001b[38;5;124mraw_input was called, but this frontend does not support input requests.\u001b[39m\u001b[38;5;124m\"\u001b[39m\n\u001b[0;32m   1005\u001b[0m     )\n\u001b[1;32m-> 1006\u001b[0m \u001b[38;5;28;01mreturn\u001b[39;00m \u001b[38;5;28;43mself\u001b[39;49m\u001b[38;5;241;43m.\u001b[39;49m\u001b[43m_input_request\u001b[49m\u001b[43m(\u001b[49m\n\u001b[0;32m   1007\u001b[0m \u001b[43m    \u001b[49m\u001b[38;5;28;43mstr\u001b[39;49m\u001b[43m(\u001b[49m\u001b[43mprompt\u001b[49m\u001b[43m)\u001b[49m\u001b[43m,\u001b[49m\n\u001b[0;32m   1008\u001b[0m \u001b[43m    \u001b[49m\u001b[38;5;28;43mself\u001b[39;49m\u001b[38;5;241;43m.\u001b[39;49m\u001b[43m_parent_ident\u001b[49m\u001b[43m[\u001b[49m\u001b[38;5;124;43m\"\u001b[39;49m\u001b[38;5;124;43mshell\u001b[39;49m\u001b[38;5;124;43m\"\u001b[39;49m\u001b[43m]\u001b[49m\u001b[43m,\u001b[49m\n\u001b[0;32m   1009\u001b[0m \u001b[43m    \u001b[49m\u001b[38;5;28;43mself\u001b[39;49m\u001b[38;5;241;43m.\u001b[39;49m\u001b[43mget_parent\u001b[49m\u001b[43m(\u001b[49m\u001b[38;5;124;43m\"\u001b[39;49m\u001b[38;5;124;43mshell\u001b[39;49m\u001b[38;5;124;43m\"\u001b[39;49m\u001b[43m)\u001b[49m\u001b[43m,\u001b[49m\n\u001b[0;32m   1010\u001b[0m \u001b[43m    \u001b[49m\u001b[43mpassword\u001b[49m\u001b[38;5;241;43m=\u001b[39;49m\u001b[38;5;28;43;01mFalse\u001b[39;49;00m\u001b[43m,\u001b[49m\n\u001b[0;32m   1011\u001b[0m \u001b[43m\u001b[49m\u001b[43m)\u001b[49m\n",
      "File \u001b[1;32m~\\.conda\\envs\\analytics\\lib\\site-packages\\ipykernel\\kernelbase.py:1051\u001b[0m, in \u001b[0;36mKernel._input_request\u001b[1;34m(self, prompt, ident, parent, password)\u001b[0m\n\u001b[0;32m   1048\u001b[0m             \u001b[38;5;28;01mbreak\u001b[39;00m\n\u001b[0;32m   1049\u001b[0m \u001b[38;5;28;01mexcept\u001b[39;00m \u001b[38;5;167;01mKeyboardInterrupt\u001b[39;00m:\n\u001b[0;32m   1050\u001b[0m     \u001b[38;5;66;03m# re-raise KeyboardInterrupt, to truncate traceback\u001b[39;00m\n\u001b[1;32m-> 1051\u001b[0m     \u001b[38;5;28;01mraise\u001b[39;00m \u001b[38;5;167;01mKeyboardInterrupt\u001b[39;00m(\u001b[38;5;124m\"\u001b[39m\u001b[38;5;124mInterrupted by user\u001b[39m\u001b[38;5;124m\"\u001b[39m) \u001b[38;5;28;01mfrom\u001b[39;00m \u001b[38;5;28mNone\u001b[39m\n\u001b[0;32m   1052\u001b[0m \u001b[38;5;28;01mexcept\u001b[39;00m \u001b[38;5;167;01mException\u001b[39;00m:\n\u001b[0;32m   1053\u001b[0m     \u001b[38;5;28mself\u001b[39m\u001b[38;5;241m.\u001b[39mlog\u001b[38;5;241m.\u001b[39mwarning(\u001b[38;5;124m\"\u001b[39m\u001b[38;5;124mInvalid Message:\u001b[39m\u001b[38;5;124m\"\u001b[39m, exc_info\u001b[38;5;241m=\u001b[39m\u001b[38;5;28;01mTrue\u001b[39;00m)\n",
      "\u001b[1;31mKeyboardInterrupt\u001b[0m: Interrupted by user"
     ]
    }
   ],
   "source": [
    "while True:\n",
    "    try:\n",
    "        code_type = input(\"ELECTRONIC MASTERMIND 1977\\nSELECT CODE TYPE: [3, 4, 5]: \").strip()\n",
    "        if code_type.lower() == \"stop\":\n",
    "            print(\"Terminated\", end=\"\\n\\n\\n\")\n",
    "            break\n",
    "        N = int(code_type)\n",
    "        if N not in [3, 4, 5]: raise ValueError()\n",
    "    except ValueError:\n",
    "        print(\"Not a valid code type.\", end=\"\\n\\n\\n\")\n",
    "    else:\n",
    "        shield = np.random.choice(10, N)\n",
    "        print(shield, \"NOTE: THIS SHOULD BE HIDDEN. IT IS SHOWN FOR DEMO PURPOSES ONLY\")\n",
    "        i = 0\n",
    "        output = np.array([\".\"]*N)\n",
    "        while (output != \"B\").any():\n",
    "            try:\n",
    "                ui = np.array(re.split(r\"\\s\", input(\"Enter the code separated by space: \"))).astype(int)\n",
    "                if len(ui) != N: raise ValueError(\"Insufficient Values in Input\")\n",
    "            except ValueError as e:\n",
    "                print(e if len(str(e)) and not str(e).startswith(\"invalid literal for int()\") else \"Unexpected Format for Sequence\\n\")\n",
    "            else:\n",
    "                output = np.array([\".\"]*N)\n",
    "                output[np.isin(ui, list(set(shield[ui != shield]) & set(ui[ui != shield])))] = \"W\"\n",
    "                output[ui==shield] = \"B\"\n",
    "                i += 1\n",
    "                print(\"Guess\", i, \":\", np.sum(output==\"B\"), np.sum(output==\"W\"), output,  end=\"\\n\\n\")\n",
    "\n",
    "        print(\"SOLVED:\", shield, end=\"\\n\\n\\n\")"
   ]
  },
  {
   "cell_type": "code",
   "execution_count": null,
   "id": "243b0082",
   "metadata": {},
   "outputs": [],
   "source": [
    "N = int(input(\"ELECTRONIC MASTERMIND 1977\\nSELECT CODE TYPE: [3, 4, 5]: \").strip())\n",
    "shield = np.random.choice(10, N)\n",
    "output = np.array([\".\"]*N)\n",
    "\n",
    "dataset = {i:[] for i in range(10)}\n",
    "\n",
    "while (output != \"B\").any():\n",
    "    ui = np.array(re.split(r\"\\s\", input(\"Enter the code separated by space: \"))).astype(int)\n",
    "    "
   ]
  },
  {
   "cell_type": "code",
   "execution_count": 44,
   "id": "b33264ff",
   "metadata": {
    "ExecuteTime": {
     "end_time": "2022-02-23T23:50:21.057886Z",
     "start_time": "2022-02-23T23:50:20.995388Z"
    }
   },
   "outputs": [
    {
     "data": {
      "text/plain": [
       "array([[2, 1, 9],\n",
       "       [7, 9, 1],\n",
       "       [5, 3, 6],\n",
       "       [5, 6, 0],\n",
       "       [1, 8, 8],\n",
       "       [0, 6, 6],\n",
       "       [9, 2, 8],\n",
       "       [7, 5, 4],\n",
       "       [1, 5, 5],\n",
       "       [4, 5, 5],\n",
       "       [1, 8, 0],\n",
       "       [7, 7, 4],\n",
       "       [7, 2, 2],\n",
       "       [2, 2, 0],\n",
       "       [2, 3, 8],\n",
       "       [3, 9, 3],\n",
       "       [7, 4, 6],\n",
       "       [2, 7, 5],\n",
       "       [8, 3, 4],\n",
       "       [2, 2, 0],\n",
       "       [5, 1, 5],\n",
       "       [8, 5, 5],\n",
       "       [0, 5, 9],\n",
       "       [4, 9, 2],\n",
       "       [3, 7, 3],\n",
       "       [2, 0, 2],\n",
       "       [3, 4, 0],\n",
       "       [6, 4, 1],\n",
       "       [1, 1, 8],\n",
       "       [0, 7, 6],\n",
       "       [4, 7, 9],\n",
       "       [9, 8, 7],\n",
       "       [6, 6, 9],\n",
       "       [5, 1, 8],\n",
       "       [5, 7, 5],\n",
       "       [2, 8, 8],\n",
       "       [8, 6, 5],\n",
       "       [6, 6, 3],\n",
       "       [0, 2, 5],\n",
       "       [3, 4, 6],\n",
       "       [8, 1, 5],\n",
       "       [2, 0, 8],\n",
       "       [8, 9, 6],\n",
       "       [3, 5, 1],\n",
       "       [9, 9, 8],\n",
       "       [1, 1, 7],\n",
       "       [1, 3, 8],\n",
       "       [4, 9, 4],\n",
       "       [4, 9, 6],\n",
       "       [2, 5, 5],\n",
       "       [8, 6, 2],\n",
       "       [0, 7, 3],\n",
       "       [5, 2, 6],\n",
       "       [4, 2, 3],\n",
       "       [5, 5, 2],\n",
       "       [2, 4, 7],\n",
       "       [8, 6, 6],\n",
       "       [3, 6, 6],\n",
       "       [3, 4, 1],\n",
       "       [2, 8, 4],\n",
       "       [8, 4, 7],\n",
       "       [8, 8, 4],\n",
       "       [1, 3, 6],\n",
       "       [5, 7, 5],\n",
       "       [8, 9, 1],\n",
       "       [4, 8, 0],\n",
       "       [2, 4, 7],\n",
       "       [4, 2, 8],\n",
       "       [6, 2, 4],\n",
       "       [6, 2, 7],\n",
       "       [9, 3, 7],\n",
       "       [6, 5, 4],\n",
       "       [1, 2, 2],\n",
       "       [8, 1, 4],\n",
       "       [8, 3, 0],\n",
       "       [2, 3, 5],\n",
       "       [8, 6, 7],\n",
       "       [6, 7, 7],\n",
       "       [3, 9, 9],\n",
       "       [4, 1, 6],\n",
       "       [1, 2, 7],\n",
       "       [6, 8, 1],\n",
       "       [0, 6, 0],\n",
       "       [8, 4, 1],\n",
       "       [2, 2, 0],\n",
       "       [0, 0, 1],\n",
       "       [7, 9, 6],\n",
       "       [6, 3, 4],\n",
       "       [8, 2, 3],\n",
       "       [8, 9, 8],\n",
       "       [4, 2, 3],\n",
       "       [8, 6, 7],\n",
       "       [0, 7, 7],\n",
       "       [4, 7, 2],\n",
       "       [0, 2, 5],\n",
       "       [0, 1, 2],\n",
       "       [0, 6, 7],\n",
       "       [5, 6, 4],\n",
       "       [0, 4, 1],\n",
       "       [7, 8, 3],\n",
       "       [6, 4, 9],\n",
       "       [7, 4, 4],\n",
       "       [7, 4, 5],\n",
       "       [9, 2, 9],\n",
       "       [1, 3, 9],\n",
       "       [0, 5, 6],\n",
       "       [7, 8, 4],\n",
       "       [6, 2, 5],\n",
       "       [9, 7, 1],\n",
       "       [5, 1, 4],\n",
       "       [0, 0, 6],\n",
       "       [2, 7, 5],\n",
       "       [3, 6, 4],\n",
       "       [9, 6, 7],\n",
       "       [7, 1, 8],\n",
       "       [2, 5, 5],\n",
       "       [7, 6, 6],\n",
       "       [3, 2, 2],\n",
       "       [0, 6, 0],\n",
       "       [7, 3, 8],\n",
       "       [9, 6, 5],\n",
       "       [3, 3, 2],\n",
       "       [2, 1, 8],\n",
       "       [3, 4, 7],\n",
       "       [3, 3, 8],\n",
       "       [9, 1, 4],\n",
       "       [4, 9, 1],\n",
       "       [4, 4, 2],\n",
       "       [6, 8, 7],\n",
       "       [4, 6, 6],\n",
       "       [5, 8, 6],\n",
       "       [5, 7, 4],\n",
       "       [9, 8, 2],\n",
       "       [0, 3, 6],\n",
       "       [7, 1, 4],\n",
       "       [1, 6, 5],\n",
       "       [7, 8, 0],\n",
       "       [3, 5, 6],\n",
       "       [1, 3, 2],\n",
       "       [5, 5, 5],\n",
       "       [6, 3, 2],\n",
       "       [6, 1, 1],\n",
       "       [8, 8, 9],\n",
       "       [8, 1, 6],\n",
       "       [9, 1, 8],\n",
       "       [8, 4, 8],\n",
       "       [3, 8, 6],\n",
       "       [5, 5, 0],\n",
       "       [3, 5, 2],\n",
       "       [8, 7, 5]])"
      ]
     },
     "execution_count": 44,
     "metadata": {},
     "output_type": "execute_result"
    }
   ],
   "source": [
    "np.random.randint(10, size=(150, 3))"
   ]
  },
  {
   "cell_type": "code",
   "execution_count": 45,
   "id": "62ff595f",
   "metadata": {
    "ExecuteTime": {
     "end_time": "2022-02-23T23:50:34.252627Z",
     "start_time": "2022-02-23T23:50:34.227626Z"
    }
   },
   "outputs": [
    {
     "data": {
      "text/plain": [
       "array([[3, 2, 9],\n",
       "       [5, 4, 5],\n",
       "       [9, 4, 2],\n",
       "       [4, 3, 7],\n",
       "       [0, 5, 7],\n",
       "       [2, 6, 8],\n",
       "       [7, 5, 5],\n",
       "       [3, 4, 3],\n",
       "       [3, 6, 7],\n",
       "       [4, 2, 9],\n",
       "       [9, 6, 3],\n",
       "       [8, 8, 7],\n",
       "       [1, 6, 7],\n",
       "       [2, 7, 4],\n",
       "       [6, 8, 7],\n",
       "       [8, 6, 2],\n",
       "       [3, 8, 3],\n",
       "       [0, 4, 0],\n",
       "       [2, 3, 6],\n",
       "       [5, 6, 9],\n",
       "       [4, 3, 3],\n",
       "       [1, 9, 2],\n",
       "       [4, 7, 1],\n",
       "       [0, 8, 9],\n",
       "       [9, 8, 5],\n",
       "       [8, 1, 4],\n",
       "       [1, 0, 2],\n",
       "       [5, 2, 4],\n",
       "       [3, 8, 0],\n",
       "       [0, 8, 0],\n",
       "       [9, 0, 6],\n",
       "       [3, 7, 1],\n",
       "       [7, 8, 7],\n",
       "       [3, 7, 4],\n",
       "       [0, 3, 3],\n",
       "       [3, 4, 5],\n",
       "       [1, 0, 3],\n",
       "       [5, 2, 1],\n",
       "       [2, 9, 6],\n",
       "       [8, 9, 1],\n",
       "       [6, 8, 4],\n",
       "       [5, 0, 1],\n",
       "       [7, 8, 8],\n",
       "       [9, 0, 2],\n",
       "       [6, 9, 2],\n",
       "       [7, 3, 3],\n",
       "       [9, 2, 5],\n",
       "       [2, 4, 6],\n",
       "       [3, 0, 8],\n",
       "       [4, 1, 9],\n",
       "       [2, 1, 5],\n",
       "       [6, 2, 6],\n",
       "       [6, 5, 6],\n",
       "       [8, 1, 2],\n",
       "       [1, 1, 1],\n",
       "       [9, 6, 5],\n",
       "       [2, 2, 9],\n",
       "       [6, 7, 9],\n",
       "       [2, 4, 7],\n",
       "       [6, 1, 6],\n",
       "       [2, 5, 1],\n",
       "       [6, 5, 2],\n",
       "       [8, 9, 6],\n",
       "       [3, 9, 6],\n",
       "       [6, 7, 4],\n",
       "       [6, 7, 5],\n",
       "       [3, 4, 5],\n",
       "       [5, 0, 1],\n",
       "       [6, 3, 3],\n",
       "       [6, 0, 8],\n",
       "       [7, 1, 0],\n",
       "       [4, 2, 5],\n",
       "       [3, 4, 9],\n",
       "       [2, 2, 9],\n",
       "       [9, 0, 0],\n",
       "       [9, 3, 9],\n",
       "       [1, 7, 3],\n",
       "       [1, 7, 1],\n",
       "       [1, 0, 4],\n",
       "       [2, 4, 6],\n",
       "       [7, 9, 6],\n",
       "       [8, 1, 9],\n",
       "       [7, 4, 8],\n",
       "       [2, 2, 7],\n",
       "       [5, 0, 6],\n",
       "       [2, 5, 6],\n",
       "       [2, 3, 2],\n",
       "       [6, 8, 6],\n",
       "       [5, 6, 6],\n",
       "       [5, 2, 9],\n",
       "       [3, 7, 0],\n",
       "       [6, 5, 7],\n",
       "       [6, 3, 3],\n",
       "       [9, 9, 3],\n",
       "       [0, 2, 1],\n",
       "       [1, 1, 5],\n",
       "       [8, 6, 4],\n",
       "       [4, 7, 7],\n",
       "       [6, 3, 9],\n",
       "       [1, 5, 7],\n",
       "       [2, 3, 1],\n",
       "       [5, 6, 8],\n",
       "       [6, 1, 6],\n",
       "       [1, 4, 0],\n",
       "       [8, 5, 6],\n",
       "       [8, 0, 9],\n",
       "       [6, 8, 3],\n",
       "       [1, 4, 5],\n",
       "       [2, 0, 8],\n",
       "       [8, 3, 1],\n",
       "       [6, 0, 8],\n",
       "       [8, 8, 0],\n",
       "       [8, 3, 9],\n",
       "       [6, 1, 1],\n",
       "       [9, 1, 5],\n",
       "       [9, 8, 9],\n",
       "       [7, 2, 6],\n",
       "       [8, 0, 6],\n",
       "       [4, 1, 1],\n",
       "       [3, 2, 2],\n",
       "       [9, 8, 9],\n",
       "       [0, 7, 6],\n",
       "       [2, 4, 3],\n",
       "       [8, 9, 3],\n",
       "       [3, 9, 4],\n",
       "       [1, 1, 0],\n",
       "       [1, 4, 1],\n",
       "       [3, 2, 1],\n",
       "       [0, 9, 6],\n",
       "       [4, 0, 4],\n",
       "       [0, 3, 7],\n",
       "       [5, 7, 8],\n",
       "       [8, 4, 9],\n",
       "       [5, 8, 0],\n",
       "       [8, 2, 6],\n",
       "       [9, 7, 2],\n",
       "       [4, 2, 0],\n",
       "       [4, 2, 4],\n",
       "       [2, 9, 9],\n",
       "       [7, 6, 4],\n",
       "       [8, 9, 0],\n",
       "       [2, 2, 6],\n",
       "       [5, 9, 9],\n",
       "       [2, 5, 1],\n",
       "       [8, 2, 6],\n",
       "       [8, 3, 7],\n",
       "       [3, 5, 4],\n",
       "       [6, 5, 8],\n",
       "       [9, 2, 5],\n",
       "       [5, 9, 8]])"
      ]
     },
     "execution_count": 45,
     "metadata": {},
     "output_type": "execute_result"
    }
   ],
   "source": [
    "np.random.choice(10, size=(150, 3))"
   ]
  },
  {
   "cell_type": "code",
   "execution_count": 28,
   "id": "b821d55d",
   "metadata": {
    "ExecuteTime": {
     "end_time": "2022-03-02T02:58:52.111211Z",
     "start_time": "2022-03-02T02:58:52.093203Z"
    }
   },
   "outputs": [],
   "source": [
    "def mark(shield, guess):\n",
    "    output = np.full(len(shield), \".\", dtype=str)\n",
    "    output[np.isin(guess, list(set(shield[guess != shield]) & set(guess[guess != shield])))] = \"W\"\n",
    "    output[guess==shield] = \"B\"\n",
    "    return output\n",
    "\n",
    "\n",
    "def score(shield, guess):\n",
    "    return np[(guess==shield).sum(), np.isin(guess, list(set(shield[guess != shield]) & set(guess[guess != shield]))).sum()]"
   ]
  },
  {
   "cell_type": "code",
   "execution_count": 7,
   "id": "1e4ae372",
   "metadata": {
    "ExecuteTime": {
     "end_time": "2022-03-02T00:40:20.593762Z",
     "start_time": "2022-03-02T00:40:20.582766Z"
    }
   },
   "outputs": [
    {
     "data": {
      "text/plain": [
       "0.5650700650346969"
      ]
     },
     "execution_count": 7,
     "metadata": {},
     "output_type": "execute_result"
    }
   ],
   "source": [
    "np.random.random()"
   ]
  },
  {
   "cell_type": "code",
   "execution_count": 19,
   "id": "be324f5a",
   "metadata": {
    "ExecuteTime": {
     "end_time": "2022-03-02T00:50:15.175061Z",
     "start_time": "2022-03-02T00:50:15.154059Z"
    }
   },
   "outputs": [],
   "source": [
    "def crossover(code1, code2):\n",
    "    return np.where(np.random.random(size=len(code1))<0.5, code1, code2)\n",
    "\n",
    "def mutate(code):\n",
    "    code[np.random.randint(len(code)-1)] = np.random.randint(9)\n",
    "    return code\n",
    "\n",
    "def permute(code):\n",
    "    for i in range(len(code)):\n",
    "        if np.random.random() < 0.03: # very low\n",
    "            a, b = np.random.randint(len(code)-1, size=2)\n",
    "            code[a], code[b] = code[b], code[a]\n",
    "    \n",
    "    return code\n",
    "\n",
    "def inversion(code):\n",
    "    code[0], code[-1] = code[-1], code[0]\n",
    "    return code"
   ]
  },
  {
   "cell_type": "code",
   "execution_count": 15,
   "id": "a79facfe",
   "metadata": {
    "ExecuteTime": {
     "end_time": "2022-03-02T00:49:49.008345Z",
     "start_time": "2022-03-02T00:49:48.992715Z"
    }
   },
   "outputs": [
    {
     "data": {
      "text/plain": [
       "array([3, 2, 3])"
      ]
     },
     "execution_count": 15,
     "metadata": {},
     "output_type": "execute_result"
    }
   ],
   "source": [
    "crossover([1,2,3],[3,2,1])"
   ]
  },
  {
   "cell_type": "code",
   "execution_count": 17,
   "id": "2b3397f2",
   "metadata": {
    "ExecuteTime": {
     "end_time": "2022-03-02T00:50:02.717336Z",
     "start_time": "2022-03-02T00:50:02.707340Z"
    }
   },
   "outputs": [
    {
     "data": {
      "text/plain": [
       "[1, 1, 3]"
      ]
     },
     "execution_count": 17,
     "metadata": {},
     "output_type": "execute_result"
    }
   ],
   "source": [
    "mutate([1,2,3])"
   ]
  },
  {
   "cell_type": "code",
   "execution_count": 23,
   "id": "9ede522d",
   "metadata": {
    "ExecuteTime": {
     "end_time": "2022-03-02T00:50:28.271329Z",
     "start_time": "2022-03-02T00:50:28.263329Z"
    }
   },
   "outputs": [
    {
     "data": {
      "text/plain": [
       "[1, 2, 3]"
      ]
     },
     "execution_count": 23,
     "metadata": {},
     "output_type": "execute_result"
    }
   ],
   "source": [
    "permute([1,2,3])"
   ]
  },
  {
   "cell_type": "code",
   "execution_count": 26,
   "id": "76b78e6e",
   "metadata": {
    "ExecuteTime": {
     "end_time": "2022-03-02T01:10:16.422875Z",
     "start_time": "2022-03-02T01:10:16.392874Z"
    }
   },
   "outputs": [
    {
     "data": {
      "text/plain": [
       "array([[3, 3, 3],\n",
       "       [2, 4, 2],\n",
       "       [2, 0, 5],\n",
       "       [7, 6, 8],\n",
       "       [7, 5, 8],\n",
       "       [4, 2, 0],\n",
       "       [8, 2, 0],\n",
       "       [6, 2, 8],\n",
       "       [6, 5, 4],\n",
       "       [3, 3, 5],\n",
       "       [6, 3, 5],\n",
       "       [6, 3, 1],\n",
       "       [7, 7, 4],\n",
       "       [4, 7, 8],\n",
       "       [6, 5, 3],\n",
       "       [6, 5, 3],\n",
       "       [8, 2, 5],\n",
       "       [8, 3, 5],\n",
       "       [8, 5, 0],\n",
       "       [5, 5, 2],\n",
       "       [5, 1, 0],\n",
       "       [6, 8, 0],\n",
       "       [6, 9, 3],\n",
       "       [2, 9, 7],\n",
       "       [2, 3, 2],\n",
       "       [3, 6, 8],\n",
       "       [5, 8, 8],\n",
       "       [9, 5, 6],\n",
       "       [6, 2, 4],\n",
       "       [6, 9, 1],\n",
       "       [9, 4, 1],\n",
       "       [9, 3, 5],\n",
       "       [9, 4, 2],\n",
       "       [1, 4, 3],\n",
       "       [2, 1, 9],\n",
       "       [0, 1, 9],\n",
       "       [0, 2, 1],\n",
       "       [8, 9, 6],\n",
       "       [6, 4, 0],\n",
       "       [6, 3, 2],\n",
       "       [3, 6, 0],\n",
       "       [3, 8, 0],\n",
       "       [8, 6, 7],\n",
       "       [8, 8, 6],\n",
       "       [1, 8, 6],\n",
       "       [0, 4, 5],\n",
       "       [0, 8, 9],\n",
       "       [9, 4, 2],\n",
       "       [9, 4, 6],\n",
       "       [3, 6, 4],\n",
       "       [3, 8, 4],\n",
       "       [2, 8, 4],\n",
       "       [5, 3, 4],\n",
       "       [7, 3, 3],\n",
       "       [7, 6, 3],\n",
       "       [1, 7, 3],\n",
       "       [1, 7, 2],\n",
       "       [4, 4, 4],\n",
       "       [4, 9, 4],\n",
       "       [7, 8, 3],\n",
       "       [2, 6, 1],\n",
       "       [2, 6, 1],\n",
       "       [0, 4, 0],\n",
       "       [3, 2, 9],\n",
       "       [3, 2, 9],\n",
       "       [3, 9, 3],\n",
       "       [3, 4, 8],\n",
       "       [0, 4, 8],\n",
       "       [7, 4, 2],\n",
       "       [4, 5, 2],\n",
       "       [7, 5, 4],\n",
       "       [8, 4, 6],\n",
       "       [4, 2, 6],\n",
       "       [4, 3, 1],\n",
       "       [3, 8, 0],\n",
       "       [1, 8, 0],\n",
       "       [9, 9, 5],\n",
       "       [9, 3, 0],\n",
       "       [0, 3, 6],\n",
       "       [4, 4, 3],\n",
       "       [8, 4, 9],\n",
       "       [8, 4, 9],\n",
       "       [2, 8, 6],\n",
       "       [3, 8, 6],\n",
       "       [3, 3, 3],\n",
       "       [3, 0, 3],\n",
       "       [3, 1, 2],\n",
       "       [2, 1, 5],\n",
       "       [5, 5, 9],\n",
       "       [9, 9, 9],\n",
       "       [6, 8, 3],\n",
       "       [6, 7, 8],\n",
       "       [1, 0, 0],\n",
       "       [9, 5, 0],\n",
       "       [9, 5, 2],\n",
       "       [3, 4, 6],\n",
       "       [6, 2, 4],\n",
       "       [6, 0, 4],\n",
       "       [2, 3, 1],\n",
       "       [7, 3, 1],\n",
       "       [7, 8, 0],\n",
       "       [0, 8, 5],\n",
       "       [7, 2, 2],\n",
       "       [7, 2, 5],\n",
       "       [7, 5, 5],\n",
       "       [8, 1, 0],\n",
       "       [0, 5, 0],\n",
       "       [8, 6, 5],\n",
       "       [8, 6, 2],\n",
       "       [9, 5, 1],\n",
       "       [5, 2, 6],\n",
       "       [8, 2, 1],\n",
       "       [0, 1, 5],\n",
       "       [6, 1, 5],\n",
       "       [6, 2, 0],\n",
       "       [1, 2, 7],\n",
       "       [1, 9, 2],\n",
       "       [6, 9, 6],\n",
       "       [6, 7, 1],\n",
       "       [9, 5, 8],\n",
       "       [0, 8, 8],\n",
       "       [3, 2, 9],\n",
       "       [3, 3, 3],\n",
       "       [1, 3, 3],\n",
       "       [3, 5, 3],\n",
       "       [3, 6, 1],\n",
       "       [3, 7, 0],\n",
       "       [3, 2, 3],\n",
       "       [7, 9, 7],\n",
       "       [4, 4, 7],\n",
       "       [4, 1, 2],\n",
       "       [1, 1, 2],\n",
       "       [9, 4, 7],\n",
       "       [8, 0, 9],\n",
       "       [8, 0, 7],\n",
       "       [0, 2, 7],\n",
       "       [6, 8, 5],\n",
       "       [1, 5, 2],\n",
       "       [1, 5, 2],\n",
       "       [1, 5, 2],\n",
       "       [1, 1, 2],\n",
       "       [7, 1, 0],\n",
       "       [0, 9, 5],\n",
       "       [2, 4, 3],\n",
       "       [0, 3, 3],\n",
       "       [0, 5, 7],\n",
       "       [8, 3, 7],\n",
       "       [8, 3, 9],\n",
       "       [3, 1, 7]])"
      ]
     },
     "execution_count": 26,
     "metadata": {},
     "output_type": "execute_result"
    }
   ],
   "source": [
    "\n",
    "\n",
    "population = np.random.choice(10, size=(150, 3))\n",
    "\n",
    "np.array(reduce(lambda lst,i:lst+[permute((lambda gene:mutate(gene) if np.random.random()<0.03 else gene)(crossover(population[i],population[i+1])))], range(149), []))"
   ]
  },
  {
   "cell_type": "code",
   "execution_count": 30,
   "id": "79fee144",
   "metadata": {
    "ExecuteTime": {
     "end_time": "2022-03-02T03:34:03.282236Z",
     "start_time": "2022-03-02T03:34:03.265236Z"
    }
   },
   "outputs": [
    {
     "data": {
      "text/plain": [
       "array([720, 679, 630])"
      ]
     },
     "execution_count": 30,
     "metadata": {},
     "output_type": "execute_result"
    }
   ],
   "source": [
    "np.random.choice(10, size=(150, 3)).sum(axis=0)"
   ]
  },
  {
   "cell_type": "code",
   "execution_count": 35,
   "id": "e9cb000e",
   "metadata": {
    "ExecuteTime": {
     "end_time": "2022-03-02T04:45:25.752260Z",
     "start_time": "2022-03-02T04:45:25.724269Z"
    }
   },
   "outputs": [
    {
     "data": {
      "text/html": [
       "<div>\n",
       "<style scoped>\n",
       "    .dataframe tbody tr th:only-of-type {\n",
       "        vertical-align: middle;\n",
       "    }\n",
       "\n",
       "    .dataframe tbody tr th {\n",
       "        vertical-align: top;\n",
       "    }\n",
       "\n",
       "    .dataframe thead th {\n",
       "        text-align: right;\n",
       "    }\n",
       "</style>\n",
       "<table border=\"1\" class=\"dataframe\">\n",
       "  <thead>\n",
       "    <tr style=\"text-align: right;\">\n",
       "      <th></th>\n",
       "      <th>0</th>\n",
       "      <th>1</th>\n",
       "      <th>2</th>\n",
       "    </tr>\n",
       "  </thead>\n",
       "  <tbody>\n",
       "    <tr>\n",
       "      <th>0</th>\n",
       "      <td>7</td>\n",
       "      <td>7</td>\n",
       "      <td>9</td>\n",
       "    </tr>\n",
       "    <tr>\n",
       "      <th>1</th>\n",
       "      <td>0</td>\n",
       "      <td>8</td>\n",
       "      <td>7</td>\n",
       "    </tr>\n",
       "    <tr>\n",
       "      <th>2</th>\n",
       "      <td>1</td>\n",
       "      <td>5</td>\n",
       "      <td>3</td>\n",
       "    </tr>\n",
       "    <tr>\n",
       "      <th>3</th>\n",
       "      <td>4</td>\n",
       "      <td>7</td>\n",
       "      <td>5</td>\n",
       "    </tr>\n",
       "    <tr>\n",
       "      <th>4</th>\n",
       "      <td>3</td>\n",
       "      <td>1</td>\n",
       "      <td>6</td>\n",
       "    </tr>\n",
       "    <tr>\n",
       "      <th>...</th>\n",
       "      <td>...</td>\n",
       "      <td>...</td>\n",
       "      <td>...</td>\n",
       "    </tr>\n",
       "    <tr>\n",
       "      <th>0</th>\n",
       "      <td>8</td>\n",
       "      <td>0</td>\n",
       "      <td>8</td>\n",
       "    </tr>\n",
       "    <tr>\n",
       "      <th>1</th>\n",
       "      <td>1</td>\n",
       "      <td>4</td>\n",
       "      <td>9</td>\n",
       "    </tr>\n",
       "    <tr>\n",
       "      <th>2</th>\n",
       "      <td>8</td>\n",
       "      <td>5</td>\n",
       "      <td>9</td>\n",
       "    </tr>\n",
       "    <tr>\n",
       "      <th>3</th>\n",
       "      <td>6</td>\n",
       "      <td>0</td>\n",
       "      <td>7</td>\n",
       "    </tr>\n",
       "    <tr>\n",
       "      <th>4</th>\n",
       "      <td>5</td>\n",
       "      <td>1</td>\n",
       "      <td>1</td>\n",
       "    </tr>\n",
       "  </tbody>\n",
       "</table>\n",
       "<p>150 rows × 3 columns</p>\n",
       "</div>"
      ],
      "text/plain": [
       "    0  1  2\n",
       "0   7  7  9\n",
       "1   0  8  7\n",
       "2   1  5  3\n",
       "3   4  7  5\n",
       "4   3  1  6\n",
       ".. .. .. ..\n",
       "0   8  0  8\n",
       "1   1  4  9\n",
       "2   8  5  9\n",
       "3   6  0  7\n",
       "4   5  1  1\n",
       "\n",
       "[150 rows x 3 columns]"
      ]
     },
     "execution_count": 35,
     "metadata": {},
     "output_type": "execute_result"
    }
   ],
   "source": [
    "def generatePopulation(size=(150,3)):\n",
    "    pop = np.random.choice(10, size=size)\n",
    "    df = pd.DataFrame(pop).drop_duplicates()\n",
    "    while len(df) < size[0]:\n",
    "        pop = np.random.choice(10, size=(size[0]-len(df), size[-1]))\n",
    "        df = pd.concat([df, pd.DataFrame(pop)]).drop_duplicates()\n",
    "    return df.iloc[:size[0]]"
   ]
  },
  {
   "cell_type": "code",
   "execution_count": 51,
   "id": "727f470c",
   "metadata": {
    "ExecuteTime": {
     "end_time": "2022-03-02T05:45:55.972668Z",
     "start_time": "2022-03-02T05:45:55.952163Z"
    }
   },
   "outputs": [
    {
     "data": {
      "text/plain": [
       "array([0, 0])"
      ]
     },
     "execution_count": 51,
     "metadata": {},
     "output_type": "execute_result"
    }
   ],
   "source": [
    "code = np[6, 0, 9]\n",
    "trial = np[1,2,3]\n",
    "result = score(trial, code)\n",
    "result"
   ]
  },
  {
   "cell_type": "code",
   "execution_count": 63,
   "id": "70ce12de",
   "metadata": {
    "ExecuteTime": {
     "end_time": "2022-03-02T05:53:56.719407Z",
     "start_time": "2022-03-02T05:53:56.427337Z"
    }
   },
   "outputs": [
    {
     "name": "stdout",
     "output_type": "stream",
     "text": [
      "[1 2 3] [0 0] ['.' '.' '.']\n",
      "[]\n"
     ]
    },
    {
     "ename": "TypeError",
     "evalue": "cannot unpack non-iterable numpy.int32 object",
     "output_type": "error",
     "traceback": [
      "\u001b[1;31m------------------------------------\u001b[0m",
      "\u001b[1;31mTypeError\u001b[0mTraceback (most recent call last)",
      "Input \u001b[1;32mIn [63]\u001b[0m, in \u001b[0;36m<module>\u001b[1;34m\u001b[0m\n\u001b[0;32m     40\u001b[0m h \u001b[38;5;241m+\u001b[39m\u001b[38;5;241m=\u001b[39m \u001b[38;5;241m1\u001b[39m\n\u001b[0;32m     41\u001b[0m children \u001b[38;5;241m=\u001b[39m np\u001b[38;5;241m.\u001b[39marray(reduce(\u001b[38;5;28;01mlambda\u001b[39;00m lst,i:lst\u001b[38;5;241m+\u001b[39m[permute((\u001b[38;5;28;01mlambda\u001b[39;00m gene:mutate(gene) \u001b[38;5;28;01mif\u001b[39;00m np\u001b[38;5;241m.\u001b[39mrandom\u001b[38;5;241m.\u001b[39mrandom()\u001b[38;5;241m<\u001b[39m\u001b[38;5;241m0.03\u001b[39m \u001b[38;5;28;01melse\u001b[39;00m gene)(crossover(population[i],population[i\u001b[38;5;241m+\u001b[39m\u001b[38;5;241m1\u001b[39m])))], \u001b[38;5;28mrange\u001b[39m(\u001b[38;5;28mlen\u001b[39m(population)\u001b[38;5;241m-\u001b[39m\u001b[38;5;241m1\u001b[39m), [])\u001b[38;5;241m+\u001b[39m[population[\u001b[38;5;241m-\u001b[39m\u001b[38;5;241m1\u001b[39m]])\n\u001b[1;32m---> 42\u001b[0m pop_score \u001b[38;5;241m=\u001b[39m \u001b[38;5;28msorted\u001b[39m([(fitness(c, guesses), c) \u001b[38;5;28;01mfor\u001b[39;00m c \u001b[38;5;129;01min\u001b[39;00m children], key\u001b[38;5;241m=\u001b[39m\u001b[38;5;28;01mlambda\u001b[39;00m x:x[\u001b[38;5;241m0\u001b[39m])\n\u001b[0;32m     43\u001b[0m eligibles \u001b[38;5;241m=\u001b[39m [(score, e) \u001b[38;5;28;01mfor\u001b[39;00m (score, e) \u001b[38;5;129;01min\u001b[39;00m pop_score \u001b[38;5;28;01mif\u001b[39;00m score \u001b[38;5;241m==\u001b[39m \u001b[38;5;241m0\u001b[39m]\n\u001b[0;32m     44\u001b[0m \u001b[38;5;28mprint\u001b[39m(eligibles)\n",
      "Input \u001b[1;32mIn [63]\u001b[0m, in \u001b[0;36m<listcomp>\u001b[1;34m(.0)\u001b[0m\n\u001b[0;32m     40\u001b[0m h \u001b[38;5;241m+\u001b[39m\u001b[38;5;241m=\u001b[39m \u001b[38;5;241m1\u001b[39m\n\u001b[0;32m     41\u001b[0m children \u001b[38;5;241m=\u001b[39m np\u001b[38;5;241m.\u001b[39marray(reduce(\u001b[38;5;28;01mlambda\u001b[39;00m lst,i:lst\u001b[38;5;241m+\u001b[39m[permute((\u001b[38;5;28;01mlambda\u001b[39;00m gene:mutate(gene) \u001b[38;5;28;01mif\u001b[39;00m np\u001b[38;5;241m.\u001b[39mrandom\u001b[38;5;241m.\u001b[39mrandom()\u001b[38;5;241m<\u001b[39m\u001b[38;5;241m0.03\u001b[39m \u001b[38;5;28;01melse\u001b[39;00m gene)(crossover(population[i],population[i\u001b[38;5;241m+\u001b[39m\u001b[38;5;241m1\u001b[39m])))], \u001b[38;5;28mrange\u001b[39m(\u001b[38;5;28mlen\u001b[39m(population)\u001b[38;5;241m-\u001b[39m\u001b[38;5;241m1\u001b[39m), [])\u001b[38;5;241m+\u001b[39m[population[\u001b[38;5;241m-\u001b[39m\u001b[38;5;241m1\u001b[39m]])\n\u001b[1;32m---> 42\u001b[0m pop_score \u001b[38;5;241m=\u001b[39m \u001b[38;5;28msorted\u001b[39m([(\u001b[43mfitness\u001b[49m\u001b[43m(\u001b[49m\u001b[43mc\u001b[49m\u001b[43m,\u001b[49m\u001b[43m \u001b[49m\u001b[43mguesses\u001b[49m\u001b[43m)\u001b[49m, c) \u001b[38;5;28;01mfor\u001b[39;00m c \u001b[38;5;129;01min\u001b[39;00m children], key\u001b[38;5;241m=\u001b[39m\u001b[38;5;28;01mlambda\u001b[39;00m x:x[\u001b[38;5;241m0\u001b[39m])\n\u001b[0;32m     43\u001b[0m eligibles \u001b[38;5;241m=\u001b[39m [(score, e) \u001b[38;5;28;01mfor\u001b[39;00m (score, e) \u001b[38;5;129;01min\u001b[39;00m pop_score \u001b[38;5;28;01mif\u001b[39;00m score \u001b[38;5;241m==\u001b[39m \u001b[38;5;241m0\u001b[39m]\n\u001b[0;32m     44\u001b[0m \u001b[38;5;28mprint\u001b[39m(eligibles)\n",
      "Input \u001b[1;32mIn [63]\u001b[0m, in \u001b[0;36mfitness\u001b[1;34m(trial, guesses)\u001b[0m\n\u001b[0;32m      5\u001b[0m \u001b[38;5;28;01mdef\u001b[39;00m \u001b[38;5;21mfitness\u001b[39m(trial, guesses):\n\u001b[0;32m      6\u001b[0m     \u001b[38;5;28mprint\u001b[39m(guesses)\n\u001b[1;32m----> 7\u001b[0m     X, Y \u001b[38;5;241m=\u001b[39m np\u001b[38;5;241m.\u001b[39marray([difference(trial, guess[\u001b[38;5;241m0\u001b[39m], guess[\u001b[38;5;241m1\u001b[39m]) \u001b[38;5;28;01mfor\u001b[39;00m guess \u001b[38;5;129;01min\u001b[39;00m guesses] \u001b[38;5;28;01mif\u001b[39;00m \u001b[38;5;28mlen\u001b[39m(guesses) \u001b[38;5;28;01melse\u001b[39;00m [\u001b[38;5;241m0\u001b[39m,\u001b[38;5;241m0\u001b[39m])\u001b[38;5;241m.\u001b[39msum(axis\u001b[38;5;241m=\u001b[39m\u001b[38;5;241m0\u001b[39m)\n\u001b[0;32m      8\u001b[0m     \u001b[38;5;28;01mreturn\u001b[39;00m X \u001b[38;5;241m+\u001b[39m Y \u001b[38;5;241m-\u001b[39m \u001b[38;5;28mlen\u001b[39m(trial)\n",
      "\u001b[1;31mTypeError\u001b[0m: cannot unpack non-iterable numpy.int32 object"
     ]
    }
   ],
   "source": [
    "def difference(trial, guess, guess_result):\n",
    "    print(trial, guess)\n",
    "    return np.abs(score(trial, np.array(guess))-guess_result)\n",
    "\n",
    "def fitness(trial, guesses):\n",
    "    print(guesses)\n",
    "    X, Y = np.array([difference(trial, guess[0], guess[1]) for guess in guesses] if len(guesses) else [0,0]).sum(axis=0)\n",
    "    return X + Y - len(trial)\n",
    "\n",
    "def stringify(lst):\n",
    "    return \"\".join(map(str, lst))\n",
    "\n",
    "def destringify(lst):\n",
    "    return list(map(int, list(lst)))\n",
    "\n",
    "code = np[6, 0, 9]\n",
    "trial = np[1,2,3]\n",
    "result = score(trial, code)\n",
    "turn = 0\n",
    "\n",
    "print(trial, result, mark(trial, code))\n",
    "\n",
    "guesses = []\n",
    "# guesses = [\n",
    "#     ([1,2,6],[0,1]),\n",
    "#     ([6,3,0],[1,1]),\n",
    "#     ([6,0,4],[2,0]),\n",
    "#     ([6,0,5],[2,0])\n",
    "    \n",
    "# ]\n",
    "\n",
    "while (result != [3,0]).any():\n",
    "    population = generatePopulation().values\n",
    "\n",
    "    Ei = []\n",
    "    h, k = 1, 0\n",
    "\n",
    "    while len(Ei) <= len(population) and h <= 100:\n",
    "        #print(population)\n",
    "        h += 1\n",
    "        children = np.array(reduce(lambda lst,i:lst+[permute((lambda gene:mutate(gene) if np.random.random()<0.03 else gene)(crossover(population[i],population[i+1])))], range(len(population)-1), [])+[population[-1]])\n",
    "        pop_score = sorted([(fitness(c, guesses), c) for c in children], key=lambda x:x[0])\n",
    "        eligibles = [(score, e) for (score, e) in pop_score if score == 0]\n",
    "        print(eligibles)\n",
    "        if not len(eligibles): continue\n",
    "        stringligibles = set([stringify(i[-1]) for i in eligibles])\n",
    "        Ei_new = set(map(stringify, Ei))\n",
    "        Ei_new = list(Ei_new - stringligibles)\n",
    "        Ei_new.extend(list(map(stringify, np.random.choice(10,size=(len(Ei)-len(Ei_new), 3)).tolist())))\n",
    "        Ei_new = list(set(Ei_new) | stringligibles)[:len(population)]\n",
    "        Ei = list(map(destringify, Ei_new))\n",
    "        population = np.vstack((np.array([i[-1] for i in eligibles]),np.random.choice(10,size=(len(Ei)-len(Ei_new), 3))))\n",
    "\n",
    "    print(\"Ei\", end=\"\")\n",
    "    if len(Ei) == 0:\n",
    "        print(\" is 0\")\n",
    "        continue\n",
    "    print(\" \", Ei)\n",
    "    test = Ei.pop()\n",
    "    while code in [c for (c, r) in guesses]:\n",
    "        test = Ei.pop()\n",
    "    \n",
    "    turn += 1\n",
    "    \n",
    "    result = score(test, code)\n",
    "    print(code, result, mark(test, code))\n",
    "    guesses.append((code, result))\n",
    "    \n",
    "    "
   ]
  },
  {
   "cell_type": "code",
   "execution_count": 49,
   "id": "b0b3ed67",
   "metadata": {
    "ExecuteTime": {
     "end_time": "2022-03-02T05:41:50.315206Z",
     "start_time": "2022-03-02T05:41:50.300258Z"
    }
   },
   "outputs": [
    {
     "name": "stdout",
     "output_type": "stream",
     "text": [
      "[[0, 8, 5], [6, 3, 4], [8, 0, 2], [6, 8, 8], [9, 0, 2], [6, 1, 3], [6, 8, 7], [8, 0, 4], [6, 9, 8]]\n"
     ]
    }
   ],
   "source": [
    "print(Ei)"
   ]
  },
  {
   "cell_type": "code",
   "execution_count": null,
   "id": "dc7d8805",
   "metadata": {},
   "outputs": [],
   "source": []
  }
 ],
 "metadata": {
  "kernelspec": {
   "display_name": "Python 3 (ipykernel)",
   "language": "python",
   "name": "python3"
  },
  "language_info": {
   "codemirror_mode": {
    "name": "ipython",
    "version": 3
   },
   "file_extension": ".py",
   "mimetype": "text/x-python",
   "name": "python",
   "nbconvert_exporter": "python",
   "pygments_lexer": "ipython3",
   "version": "3.9.7"
  },
  "toc": {
   "base_numbering": 1,
   "nav_menu": {},
   "number_sections": true,
   "sideBar": true,
   "skip_h1_title": false,
   "title_cell": "Table of Contents",
   "title_sidebar": "Contents",
   "toc_cell": false,
   "toc_position": {},
   "toc_section_display": true,
   "toc_window_display": false
  },
  "varInspector": {
   "cols": {
    "lenName": 16,
    "lenType": 16,
    "lenVar": 40
   },
   "kernels_config": {
    "python": {
     "delete_cmd_postfix": "",
     "delete_cmd_prefix": "del ",
     "library": "var_list.py",
     "varRefreshCmd": "print(var_dic_list())"
    },
    "r": {
     "delete_cmd_postfix": ") ",
     "delete_cmd_prefix": "rm(",
     "library": "var_list.r",
     "varRefreshCmd": "cat(var_dic_list()) "
    }
   },
   "types_to_exclude": [
    "module",
    "function",
    "builtin_function_or_method",
    "instance",
    "_Feature"
   ],
   "window_display": false
  }
 },
 "nbformat": 4,
 "nbformat_minor": 5
}
